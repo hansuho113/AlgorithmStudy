{
 "cells": [
  {
   "cell_type": "code",
   "execution_count": 2,
   "metadata": {
    "collapsed": true
   },
   "outputs": [
    {
     "name": "stdout",
     "output_type": "stream",
     "text": [
      "10\n"
     ]
    }
   ],
   "source": [
    "print((lambda a, b: (a+b))(3,7))"
   ]
  },
  {
   "cell_type": "code",
   "execution_count": 3,
   "outputs": [
    {
     "name": "stdout",
     "output_type": "stream",
     "text": [
      "[('c', 50), ('b', 30), ('a', 70)]\n",
      "[('a', 70), ('b', 30), ('c', 50)]\n",
      "[('b', 30), ('c', 50), ('a', 70)]\n"
     ]
    }
   ],
   "source": [
    "# 일회성의 함수에 주로 사용 (정렬 등)\n",
    "\n",
    "a = [('c', 50), ('b', 30), ('a', 70)]\n",
    "\n",
    "print(a)\n",
    "print(sorted(a))\n",
    "print(sorted(a, key = lambda x: x[1]))"
   ],
   "metadata": {
    "collapsed": false,
    "pycharm": {
     "name": "#%%\n"
    }
   }
  },
  {
   "cell_type": "code",
   "execution_count": 6,
   "outputs": [
    {
     "name": "stdout",
     "output_type": "stream",
     "text": [
      "[11, 22, 33, 44, 55]\n"
     ]
    }
   ],
   "source": [
    "# map 과 lambda 를 같이 사용\n",
    "\n",
    "x = [1,2,3,4,5]\n",
    "y = [10,20,30,40,50]\n",
    "\n",
    "result = map(lambda a,b : a+b, x, y)\n",
    "print(list(result))"
   ],
   "metadata": {
    "collapsed": false,
    "pycharm": {
     "name": "#%%\n"
    }
   }
  },
  {
   "cell_type": "code",
   "execution_count": null,
   "outputs": [],
   "source": [],
   "metadata": {
    "collapsed": false,
    "pycharm": {
     "name": "#%%\n"
    }
   }
  }
 ],
 "metadata": {
  "kernelspec": {
   "display_name": "Python 3",
   "language": "python",
   "name": "python3"
  },
  "language_info": {
   "codemirror_mode": {
    "name": "ipython",
    "version": 2
   },
   "file_extension": ".py",
   "mimetype": "text/x-python",
   "name": "python",
   "nbconvert_exporter": "python",
   "pygments_lexer": "ipython2",
   "version": "2.7.6"
  }
 },
 "nbformat": 4,
 "nbformat_minor": 0
}