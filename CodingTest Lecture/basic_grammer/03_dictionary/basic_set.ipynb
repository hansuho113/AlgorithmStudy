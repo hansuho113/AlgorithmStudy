{
 "cells": [
  {
   "cell_type": "code",
   "execution_count": 1,
   "metadata": {
    "collapsed": true
   },
   "outputs": [],
   "source": [
    "\n",
    "# 집합\n",
    "# - 중복을 허용하지 않음\n",
    "# - 순서가 없음\n",
    "\n",
    "# 리스트 혹은 문자열을 이용해서 초기화 할 수 있음\n",
    "#   - set() 함수 이용\n",
    "\n",
    "# {} 안에 , 로 구분해서 삽입함으로써 초기화도 가능\n",
    "\n",
    "# 조회 및 수정 -> O(1)"
   ]
  },
  {
   "cell_type": "code",
   "execution_count": 2,
   "outputs": [
    {
     "name": "stdout",
     "output_type": "stream",
     "text": [
      "{1, 2, 3, 4, 5}\n"
     ]
    }
   ],
   "source": [
    "data = [1,1,2,2,3,4,5,5]\n",
    "print(set(data))"
   ],
   "metadata": {
    "collapsed": false,
    "pycharm": {
     "name": "#%%\n"
    }
   }
  },
  {
   "cell_type": "code",
   "execution_count": 3,
   "outputs": [
    {
     "name": "stdout",
     "output_type": "stream",
     "text": [
      "{1, 2, 3, 4}\n"
     ]
    }
   ],
   "source": [
    "data = {1,2,2,1,2,3,4}\n",
    "print(data)"
   ],
   "metadata": {
    "collapsed": false,
    "pycharm": {
     "name": "#%%\n"
    }
   }
  },
  {
   "cell_type": "code",
   "execution_count": 4,
   "outputs": [
    {
     "name": "stdout",
     "output_type": "stream",
     "text": [
      "{1, 2, 3, 4, 5, 6, 7}\n",
      "{3, 4, 5}\n",
      "{1, 2}\n"
     ]
    }
   ],
   "source": [
    "# 집합 이므로 합집합, 교집합, 차집합 표현 가능\n",
    "\n",
    "a = set([1,2,3,4,5])\n",
    "b = set([3,4,5,6,7])\n",
    "\n",
    "print(a | b)\n",
    "print(a & b)\n",
    "print(a - b)"
   ],
   "metadata": {
    "collapsed": false,
    "pycharm": {
     "name": "#%%\n"
    }
   }
  },
  {
   "cell_type": "code",
   "execution_count": 5,
   "outputs": [
    {
     "name": "stdout",
     "output_type": "stream",
     "text": [
      "{1, 2, 3, 4, 66, 45, 55}\n",
      "{1, 2, 3, 4, 66, 45}\n"
     ]
    }
   ],
   "source": [
    "# 새로운 원소 추가 add()\n",
    "# 여러 원소 추가 update(list)\n",
    "# 특정값 삭제 remove(값)\n",
    "\n",
    "data.add(45)\n",
    "data.update([55,66])\n",
    "print(data)\n",
    "data.remove(55)\n",
    "print(data)\n"
   ],
   "metadata": {
    "collapsed": false,
    "pycharm": {
     "name": "#%%\n"
    }
   }
  },
  {
   "cell_type": "markdown",
   "source": [
    "- list는 순서가 존재하기 때문에 인덱스로 자료에 접근할 수 있지만\n",
    "- dictionary와 set은 순서가 없기 때문에 인덱스로 접근 불가능\n",
    "    - 키 혹은 집합의 원소로 O(1) 시간복잡도로 데이터 조회 가능"
   ],
   "metadata": {
    "collapsed": false
   }
  },
  {
   "cell_type": "code",
   "execution_count": null,
   "outputs": [],
   "source": [],
   "metadata": {
    "collapsed": false,
    "pycharm": {
     "name": "#%%\n"
    }
   }
  }
 ],
 "metadata": {
  "kernelspec": {
   "display_name": "Python 3",
   "language": "python",
   "name": "python3"
  },
  "language_info": {
   "codemirror_mode": {
    "name": "ipython",
    "version": 2
   },
   "file_extension": ".py",
   "mimetype": "text/x-python",
   "name": "python",
   "nbconvert_exporter": "python",
   "pygments_lexer": "ipython2",
   "version": "2.7.6"
  }
 },
 "nbformat": 4,
 "nbformat_minor": 0
}