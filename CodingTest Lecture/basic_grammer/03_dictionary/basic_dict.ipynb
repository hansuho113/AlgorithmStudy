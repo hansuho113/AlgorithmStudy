{
 "cells": [
  {
   "cell_type": "code",
   "execution_count": 1,
   "metadata": {
    "collapsed": true
   },
   "outputs": [],
   "source": [
    "# key - value 쌍으로 이루어짐\n",
    "# immutable한 자료형을 키로 사용할 수 있음\n",
    "# 해시 테이블을 이용하므로 조회 및 수정에 있어 O(1)에 처리 가능"
   ]
  },
  {
   "cell_type": "code",
   "execution_count": 3,
   "outputs": [
    {
     "name": "stdout",
     "output_type": "stream",
     "text": [
      "'사과'를 키로 가지는 데이터가 존재합니다\n"
     ]
    }
   ],
   "source": [
    "data = dict()\n",
    "data['사과'] = 'a'\n",
    "data['바나나'] = 'b'\n",
    "data['코코넛'] = 'c'\n",
    "\n",
    "if '사과' in data:\n",
    "    print(\"'사과'를 키로 가지는 데이터가 존재합니다\")"
   ],
   "metadata": {
    "collapsed": false,
    "pycharm": {
     "name": "#%%\n"
    }
   }
  },
  {
   "cell_type": "code",
   "execution_count": 4,
   "outputs": [
    {
     "name": "stdout",
     "output_type": "stream",
     "text": [
      "사과\n",
      "바나나\n",
      "코코넛\n"
     ]
    }
   ],
   "source": [
    "# keys(), values() 메서드 제공\n",
    "\n",
    "k_list = data.keys()\n",
    "v_list = data.values()\n",
    "\n",
    "for k in k_list:\n",
    "    print(k)"
   ],
   "metadata": {
    "collapsed": false,
    "pycharm": {
     "name": "#%%\n"
    }
   }
  },
  {
   "cell_type": "code",
   "execution_count": null,
   "outputs": [],
   "source": [
    "# keys() 는 key_dict라는 객체로 반환함\n",
    "# 리스트로 반환하고 싶으면 list(data.keys()) 로 사용"
   ],
   "metadata": {
    "collapsed": false,
    "pycharm": {
     "name": "#%%\n"
    }
   }
  }
 ],
 "metadata": {
  "kernelspec": {
   "display_name": "Python 3",
   "language": "python",
   "name": "python3"
  },
  "language_info": {
   "codemirror_mode": {
    "name": "ipython",
    "version": 2
   },
   "file_extension": ".py",
   "mimetype": "text/x-python",
   "name": "python",
   "nbconvert_exporter": "python",
   "pygments_lexer": "ipython2",
   "version": "2.7.6"
  }
 },
 "nbformat": 4,
 "nbformat_minor": 0
}