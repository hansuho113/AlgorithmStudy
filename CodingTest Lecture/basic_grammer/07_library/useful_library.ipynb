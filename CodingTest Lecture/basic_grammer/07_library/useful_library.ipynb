{
 "cells": [
  {
   "cell_type": "markdown",
   "metadata": {
    "collapsed": true,
    "pycharm": {
     "name": "#%% md\n"
    }
   },
   "source": [
    "## 내장함수\n",
    "- eval(\"수식\"): 사람이 쓰는 식으로 표현\n",
    "- sorted(data, key, reverse): 반복가능한 개체 정\n",
    "\n",
    "## itertools\n",
    "- 모든 경우를 고려해야 하는 경우\n",
    "    - 순열, 조합\n",
    "    - 순열\n",
    "        - {A, B, C} 에서 3개 골라 나열: ABC, ACB, ''', CBA\n",
    "    - 조합\n",
    "        - {A, B, C} 에서 순서 상관없이 두 개: AB, AC, BC\n",
    "\n",
    "## heapq\n",
    "- 힙 자료구조 제공\n",
    "    - 우선순위 큐를 구현하기 위해 주로 사용됨 (다익스트라 최단경로)\n",
    "\n",
    "## bisect\n",
    "- 이진탐색 기능 제공\n",
    "\n",
    "## collections\n",
    "- 덱(deque), 카운터(counter) 등의 자료구조 제공\n",
    "    - Counter: 등장 횟수를 세기 위해 사\n",
    "## math\n",
    "- 팩토리얼, 제곱근, 최대공약수, 삼각함수, 파이 등 제"
   ]
  },
  {
   "cell_type": "code",
   "execution_count": 2,
   "outputs": [
    {
     "name": "stdout",
     "output_type": "stream",
     "text": [
      "[('A', 'B', 'C'), ('A', 'C', 'B'), ('B', 'A', 'C'), ('B', 'C', 'A'), ('C', 'A', 'B'), ('C', 'B', 'A')]\n"
     ]
    }
   ],
   "source": [
    "# 순열\n",
    "from itertools import permutations\n",
    "data = ['A', 'B', 'C']\n",
    "result = list(permutations(data, 3)) # 3개 뽑는 순열\n",
    "print(result)"
   ],
   "metadata": {
    "collapsed": false,
    "pycharm": {
     "name": "#%%\n"
    }
   }
  },
  {
   "cell_type": "code",
   "execution_count": 3,
   "outputs": [
    {
     "name": "stdout",
     "output_type": "stream",
     "text": [
      "[('A', 'B'), ('A', 'C'), ('B', 'C')]\n"
     ]
    }
   ],
   "source": [
    "# 조함\n",
    "from itertools import combinations\n",
    "result = list(combinations(data, 2))\n",
    "print(result)"
   ],
   "metadata": {
    "collapsed": false,
    "pycharm": {
     "name": "#%%\n"
    }
   }
  },
  {
   "cell_type": "code",
   "execution_count": 5,
   "outputs": [
    {
     "name": "stdout",
     "output_type": "stream",
     "text": [
      "[('A', 'A'), ('A', 'B'), ('A', 'C'), ('B', 'A'), ('B', 'B'), ('B', 'C'), ('C', 'A'), ('C', 'B'), ('C', 'C')]\n",
      "[('A', 'A'), ('A', 'B'), ('A', 'C'), ('B', 'B'), ('B', 'C'), ('C', 'C')]\n"
     ]
    }
   ],
   "source": [
    "# 중복 순열과 중복 조합\n",
    "from itertools import product, combinations_with_replacement\n",
    "\n",
    "# 중복 허용하여 2개 뽑는 모든 순열 출력\n",
    "result_1 = list(product(data, repeat=2))\n",
    "print(result_1)\n",
    "\n",
    "# 중복 허용하여 2개 뽑는 모든 조합 출력\n",
    "result_2 = list(combinations_with_replacement(data, 2))\n",
    "print(result_2)"
   ],
   "metadata": {
    "collapsed": false,
    "pycharm": {
     "name": "#%%\n"
    }
   }
  },
  {
   "cell_type": "code",
   "execution_count": 6,
   "outputs": [
    {
     "name": "stdout",
     "output_type": "stream",
     "text": [
      "3\n",
      "1\n",
      "{'r': 3, 'b': 2, 'y': 1}\n"
     ]
    }
   ],
   "source": [
    "# Counter\n",
    "from collections import Counter\n",
    "counter = Counter(['r', 'b', 'y', 'r', 'r', 'b'])\n",
    "print(counter['r'])\n",
    "print(counter['y'])\n",
    "print(dict(counter))\n"
   ],
   "metadata": {
    "collapsed": false,
    "pycharm": {
     "name": "#%%\n"
    }
   }
  },
  {
   "cell_type": "code",
   "execution_count": 9,
   "outputs": [
    {
     "name": "stdout",
     "output_type": "stream",
     "text": [
      "7\n",
      "42\n"
     ]
    }
   ],
   "source": [
    "# math\n",
    "\n",
    "import math\n",
    "a = 14\n",
    "b = 21\n",
    "\n",
    "print(math.gcd(a, b)) # 최대 공약수\n",
    "\n",
    "def lcm(a, b):\n",
    "    return a*b // math.gcd(a,b)\n",
    "print(lcm(a, b)) # 최소 공배수"
   ],
   "metadata": {
    "collapsed": false,
    "pycharm": {
     "name": "#%%\n"
    }
   }
  },
  {
   "cell_type": "code",
   "execution_count": null,
   "outputs": [],
   "source": [],
   "metadata": {
    "collapsed": false,
    "pycharm": {
     "name": "#%%\n"
    }
   }
  }
 ],
 "metadata": {
  "kernelspec": {
   "display_name": "Python 3",
   "language": "python",
   "name": "python3"
  },
  "language_info": {
   "codemirror_mode": {
    "name": "ipython",
    "version": 2
   },
   "file_extension": ".py",
   "mimetype": "text/x-python",
   "name": "python",
   "nbconvert_exporter": "python",
   "pygments_lexer": "ipython2",
   "version": "2.7.6"
  }
 },
 "nbformat": 4,
 "nbformat_minor": 0
}