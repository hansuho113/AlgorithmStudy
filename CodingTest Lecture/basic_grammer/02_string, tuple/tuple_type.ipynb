{
 "cells": [
  {
   "cell_type": "code",
   "execution_count": null,
   "metadata": {
    "collapsed": true
   },
   "outputs": [],
   "source": [
    "# 튜플은 한 번 선언된 값을 변경할 수 없음\n",
    "# 소괄호 이용\n",
    "# 리스트에 비해 공간 효율적(적은 메모리)\n",
    "\n",
    "\n",
    "\n",
    "# 쓰임새\n",
    "# - 서로 다른 성질의 데이터를 묶어서 사용해야 할 때\n",
    "#   - 최단경로 알고리즘에서 (비용, 노드번호) 형태로 자주 사용\n",
    "# - 해싱의 키값으로 사용할 때\n",
    "#   - 변경 불가능하기 때문에\n",
    "# - 메모리를 효율적으로 활용해야 할 때\n"
   ]
  }
 ],
 "metadata": {
  "kernelspec": {
   "display_name": "Python 3",
   "language": "python",
   "name": "python3"
  },
  "language_info": {
   "codemirror_mode": {
    "name": "ipython",
    "version": 2
   },
   "file_extension": ".py",
   "mimetype": "text/x-python",
   "name": "python",
   "nbconvert_exporter": "python",
   "pygments_lexer": "ipython2",
   "version": "2.7.6"
  }
 },
 "nbformat": 4,
 "nbformat_minor": 0
}