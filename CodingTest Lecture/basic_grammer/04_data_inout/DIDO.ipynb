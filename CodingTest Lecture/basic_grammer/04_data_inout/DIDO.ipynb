{
 "cells": [
  {
   "cell_type": "markdown",
   "metadata": {
    "collapsed": true,
    "pycharm": {
     "name": "#%% md\n"
    }
   },
   "source": [
    "## input\n",
    "a = ipnut()\n",
    "a = input().split()\n",
    "a = map(int, input().split())\n",
    "a = list(map(int, input())\n",
    "\n",
    "## sys.stdin.readline()\n",
    "import sys\n",
    "sys.stdin.readline() # 개행 문자 포함되므로 rstrip() 같이\n",
    "a = sys.stdin.readline().rstrip()\n",
    "\n",
    "## print\n",
    "줄바꿈 같이 나오지 않게 하려면\n",
    "\n",
    "print(data, end='')\n"
   ]
  }
 ],
 "metadata": {
  "kernelspec": {
   "display_name": "Python 3",
   "language": "python",
   "name": "python3"
  },
  "language_info": {
   "codemirror_mode": {
    "name": "ipython",
    "version": 2
   },
   "file_extension": ".py",
   "mimetype": "text/x-python",
   "name": "python",
   "nbconvert_exporter": "python",
   "pygments_lexer": "ipython2",
   "version": "2.7.6"
  }
 },
 "nbformat": 4,
 "nbformat_minor": 0
}