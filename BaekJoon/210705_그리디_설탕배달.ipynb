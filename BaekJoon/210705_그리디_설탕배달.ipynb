{
 "cells": [
  {
   "cell_type": "code",
   "execution_count": null,
   "id": "4954c3e5-326a-45ec-b9df-f2d20015cdf0",
   "metadata": {},
   "outputs": [],
   "source": [
    "# 설탕배달\n",
    "\n",
    "# 5, 3kg 배달 봉지\n",
    "# N kg의 설탕을 가장 적은 수의 봉지로 배달할 때의 개수\n",
    "\n",
    "N = int(input())\n",
    "bag_cnt = 0\n",
    "\n",
    "while True:\n",
    "    if N % 5 == 0:\n",
    "        bag_cnt += (N // 5)\n",
    "        print(bag_cnt)\n",
    "        break\n",
    "    N -= 3\n",
    "    bag_cnt += 1\n",
    "    if N == 0:\n",
    "        print(bag_cnt)\n",
    "        break\n",
    "    if N < 3:\n",
    "        print(-1)\n",
    "        break"
   ]
  }
 ],
 "metadata": {
  "kernelspec": {
   "display_name": "Python 3",
   "language": "python",
   "name": "python3"
  },
  "language_info": {
   "codemirror_mode": {
    "name": "ipython",
    "version": 3
   },
   "file_extension": ".py",
   "mimetype": "text/x-python",
   "name": "python",
   "nbconvert_exporter": "python",
   "pygments_lexer": "ipython3",
   "version": "3.8.8"
  }
 },
 "nbformat": 4,
 "nbformat_minor": 5
}
