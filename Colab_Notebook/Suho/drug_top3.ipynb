{
  "nbformat": 4,
  "nbformat_minor": 0,
  "metadata": {
    "colab": {
      "name": "drug_top3.ipynb",
      "provenance": [],
      "collapsed_sections": [],
      "authorship_tag": "ABX9TyPlKRqs2A+uroJoBeRX+g6p",
      "include_colab_link": true
    },
    "kernelspec": {
      "name": "python3",
      "display_name": "Python 3"
    },
    "language_info": {
      "name": "python"
    }
  },
  "cells": [
    {
      "cell_type": "markdown",
      "metadata": {
        "id": "view-in-github",
        "colab_type": "text"
      },
      "source": [
        "<a href=\"https://colab.research.google.com/github/hansuho113/AlgorithmBook/blob/master/Colab_Notebook/Suho/drug_top3.ipynb\" target=\"_parent\"><img src=\"https://colab.research.google.com/assets/colab-badge.svg\" alt=\"Open In Colab\"/></a>"
      ]
    },
    {
      "cell_type": "code",
      "metadata": {
        "colab": {
          "base_uri": "https://localhost:8080/"
        },
        "id": "BOwS66F_SaCJ",
        "outputId": "be491b7b-1dc7-47fb-c74c-5c32158b1627"
      },
      "source": [
        "from google.colab import drive  \n",
        "drive.mount(\"/content/drive\")"
      ],
      "execution_count": 1,
      "outputs": [
        {
          "output_type": "stream",
          "text": [
            "Mounted at /content/drive\n"
          ],
          "name": "stdout"
        }
      ]
    },
    {
      "cell_type": "code",
      "metadata": {
        "id": "A76zvf54SfKI"
      },
      "source": [
        "import pandas as pd\n",
        "import numpy as np\n",
        "import matplotlib.pyplot as plt\n",
        "from IPython.display import display as dp\n",
        "import tensorflow as tf\n",
        "from tensorflow import keras\n",
        "from tensorflow.keras import layers\n",
        "from sklearn.preprocessing import LabelEncoder\n",
        "from sklearn.model_selection import train_test_split\n",
        "import matplotlib.pyplot as plt"
      ],
      "execution_count": 2,
      "outputs": []
    },
    {
      "cell_type": "code",
      "metadata": {
        "colab": {
          "base_uri": "https://localhost:8080/",
          "height": 453
        },
        "id": "ttBXaxQrSo3c",
        "outputId": "1828df7b-933c-49a2-ce84-55e61f640aaf"
      },
      "source": [
        "drug_res = pd.read_table(\"/content/drive/MyDrive/SW21Project/TCGA_Drug_Response_07272017.txt\")\n",
        "drug_res"
      ],
      "execution_count": 3,
      "outputs": [
        {
          "output_type": "execute_result",
          "data": {
            "text/html": [
              "<div>\n",
              "<style scoped>\n",
              "    .dataframe tbody tr th:only-of-type {\n",
              "        vertical-align: middle;\n",
              "    }\n",
              "\n",
              "    .dataframe tbody tr th {\n",
              "        vertical-align: top;\n",
              "    }\n",
              "\n",
              "    .dataframe thead th {\n",
              "        text-align: right;\n",
              "    }\n",
              "</style>\n",
              "<table border=\"1\" class=\"dataframe\">\n",
              "  <thead>\n",
              "    <tr style=\"text-align: right;\">\n",
              "      <th></th>\n",
              "      <th>Cancer Type</th>\n",
              "      <th>bcr_patient_barcode</th>\n",
              "      <th>drug_name</th>\n",
              "      <th>measure_of_response</th>\n",
              "      <th>regimen_indication</th>\n",
              "      <th>days_to_drug_therapy_start</th>\n",
              "      <th>days_to_drug_therapy_end</th>\n",
              "      <th>therapy_types</th>\n",
              "    </tr>\n",
              "  </thead>\n",
              "  <tbody>\n",
              "    <tr>\n",
              "      <th>0</th>\n",
              "      <td>ACC</td>\n",
              "      <td>TCGA-PK-A5HB</td>\n",
              "      <td>Sorafenib</td>\n",
              "      <td>Clinical Progressive Disease</td>\n",
              "      <td>NaN</td>\n",
              "      <td>968.0</td>\n",
              "      <td>1029.0</td>\n",
              "      <td>Targeted Molecular therapy</td>\n",
              "    </tr>\n",
              "    <tr>\n",
              "      <th>1</th>\n",
              "      <td>ACC</td>\n",
              "      <td>TCGA-OR-A5K2</td>\n",
              "      <td>Adriamycin</td>\n",
              "      <td>NaN</td>\n",
              "      <td>NaN</td>\n",
              "      <td>118.0</td>\n",
              "      <td>298.0</td>\n",
              "      <td>Chemotherapy</td>\n",
              "    </tr>\n",
              "    <tr>\n",
              "      <th>2</th>\n",
              "      <td>ACC</td>\n",
              "      <td>TCGA-OR-A5K2</td>\n",
              "      <td>Cisplatin</td>\n",
              "      <td>NaN</td>\n",
              "      <td>NaN</td>\n",
              "      <td>118.0</td>\n",
              "      <td>298.0</td>\n",
              "      <td>Chemotherapy</td>\n",
              "    </tr>\n",
              "    <tr>\n",
              "      <th>3</th>\n",
              "      <td>ACC</td>\n",
              "      <td>TCGA-OR-A5K2</td>\n",
              "      <td>carboplatin</td>\n",
              "      <td>NaN</td>\n",
              "      <td>NaN</td>\n",
              "      <td>118.0</td>\n",
              "      <td>299.0</td>\n",
              "      <td>Chemotherapy</td>\n",
              "    </tr>\n",
              "    <tr>\n",
              "      <th>4</th>\n",
              "      <td>ACC</td>\n",
              "      <td>TCGA-OR-A5K2</td>\n",
              "      <td>etoposide</td>\n",
              "      <td>NaN</td>\n",
              "      <td>NaN</td>\n",
              "      <td>118.0</td>\n",
              "      <td>298.0</td>\n",
              "      <td>Chemotherapy</td>\n",
              "    </tr>\n",
              "    <tr>\n",
              "      <th>...</th>\n",
              "      <td>...</td>\n",
              "      <td>...</td>\n",
              "      <td>...</td>\n",
              "      <td>...</td>\n",
              "      <td>...</td>\n",
              "      <td>...</td>\n",
              "      <td>...</td>\n",
              "      <td>...</td>\n",
              "    </tr>\n",
              "    <tr>\n",
              "      <th>12566</th>\n",
              "      <td>UCS</td>\n",
              "      <td>TCGA-N5-A4RU</td>\n",
              "      <td>Cisplatin</td>\n",
              "      <td>Complete Response</td>\n",
              "      <td>NaN</td>\n",
              "      <td>48.0</td>\n",
              "      <td>113.0</td>\n",
              "      <td>Chemotherapy</td>\n",
              "    </tr>\n",
              "    <tr>\n",
              "      <th>12567</th>\n",
              "      <td>UVM</td>\n",
              "      <td>TCGA-V4-A9F3</td>\n",
              "      <td>fotemustine</td>\n",
              "      <td>NaN</td>\n",
              "      <td>NaN</td>\n",
              "      <td>27.0</td>\n",
              "      <td>175.0</td>\n",
              "      <td>Chemotherapy</td>\n",
              "    </tr>\n",
              "    <tr>\n",
              "      <th>12568</th>\n",
              "      <td>UVM</td>\n",
              "      <td>TCGA-V4-A9F1</td>\n",
              "      <td>fotemustine</td>\n",
              "      <td>NaN</td>\n",
              "      <td>NaN</td>\n",
              "      <td>22.0</td>\n",
              "      <td>147.0</td>\n",
              "      <td>Chemotherapy</td>\n",
              "    </tr>\n",
              "    <tr>\n",
              "      <th>12569</th>\n",
              "      <td>UVM</td>\n",
              "      <td>TCGA-V4-A9ET</td>\n",
              "      <td>fotemustine</td>\n",
              "      <td>NaN</td>\n",
              "      <td>NaN</td>\n",
              "      <td>21.0</td>\n",
              "      <td>174.0</td>\n",
              "      <td>Chemotherapy</td>\n",
              "    </tr>\n",
              "    <tr>\n",
              "      <th>12570</th>\n",
              "      <td>UVM</td>\n",
              "      <td>TCGA-V4-A9EM</td>\n",
              "      <td>fotemustine</td>\n",
              "      <td>NaN</td>\n",
              "      <td>NaN</td>\n",
              "      <td>24.0</td>\n",
              "      <td>187.0</td>\n",
              "      <td>Chemotherapy</td>\n",
              "    </tr>\n",
              "  </tbody>\n",
              "</table>\n",
              "<p>12571 rows × 8 columns</p>\n",
              "</div>"
            ],
            "text/plain": [
              "      Cancer Type  ...               therapy_types\n",
              "0             ACC  ...  Targeted Molecular therapy\n",
              "1             ACC  ...                Chemotherapy\n",
              "2             ACC  ...                Chemotherapy\n",
              "3             ACC  ...                Chemotherapy\n",
              "4             ACC  ...                Chemotherapy\n",
              "...           ...  ...                         ...\n",
              "12566         UCS  ...                Chemotherapy\n",
              "12567         UVM  ...                Chemotherapy\n",
              "12568         UVM  ...                Chemotherapy\n",
              "12569         UVM  ...                Chemotherapy\n",
              "12570         UVM  ...                Chemotherapy\n",
              "\n",
              "[12571 rows x 8 columns]"
            ]
          },
          "metadata": {
            "tags": []
          },
          "execution_count": 3
        }
      ]
    },
    {
      "cell_type": "code",
      "metadata": {
        "colab": {
          "base_uri": "https://localhost:8080/"
        },
        "id": "gCr9kojESqSl",
        "outputId": "30dbcd06-c3e8-4791-bb69-c582b65b6072"
      },
      "source": [
        "drug_res['Cancer Type'].value_counts()"
      ],
      "execution_count": 4,
      "outputs": [
        {
          "output_type": "execute_result",
          "data": {
            "text/plain": [
              "OV      2516\n",
              "BRCA    2406\n",
              "GBM     1505\n",
              "LGG      695\n",
              "COAD     593\n",
              "UCEC     479\n",
              "STAD     463\n",
              "LUAD     461\n",
              "LUSC     357\n",
              "HNSC     353\n",
              "BLCA     303\n",
              "SKCM     265\n",
              "PAAD     254\n",
              "READ     231\n",
              "DLBC     225\n",
              "SARC     208\n",
              "CESC     199\n",
              "TGCT     171\n",
              "KIRC     168\n",
              "MESO     159\n",
              "PRAD     130\n",
              "UCS       95\n",
              "ESCA      82\n",
              "LIHC      66\n",
              "THCA      56\n",
              "KIRP      47\n",
              "KICH      21\n",
              "ACC       18\n",
              "THYM      16\n",
              "CHOL      14\n",
              "PCPG      11\n",
              "UVM        4\n",
              "Name: Cancer Type, dtype: int64"
            ]
          },
          "metadata": {
            "tags": []
          },
          "execution_count": 4
        }
      ]
    },
    {
      "cell_type": "markdown",
      "metadata": {
        "id": "RfVYAsuiViVA"
      },
      "source": [
        "- OV: ovarian cancer: 난소암\n",
        "- BRCA: breast cancer: 유방암\n",
        "- GBM: glioblastoma cancer: 교모세포종 (뇌)\n",
        "- LGG: Low grade glioma: 저등급신경교종 (뇌)\n",
        "- COAD: Colon adenocarcinoma: 대장암\n",
        "- UCEC: Uterine Corpus Endometrial Carcinoma: 자궁내막암"
      ]
    },
    {
      "cell_type": "code",
      "metadata": {
        "id": "QX9jI2XRWWKR"
      },
      "source": [
        "drug_coad = drug_res[drug_res['Cancer Type'] == \"COAD\"]\n",
        "drug_ov = drug_res[drug_res['Cancer Type'] == 'OV']\n",
        "drug_brca = drug_res[drug_res['Cancer Type'] == 'BRCA']\n",
        "drug_ucec = drug_res[drug_res['Cancer Type'] == 'UCEC']"
      ],
      "execution_count": 5,
      "outputs": []
    },
    {
      "cell_type": "code",
      "metadata": {
        "colab": {
          "base_uri": "https://localhost:8080/"
        },
        "id": "OMHWEfeBWqVy",
        "outputId": "48acccb1-d7a8-4e9d-ee1b-529aaae2deb0"
      },
      "source": [
        "print(f\"\"\"\n",
        "    각 암종별 환자 데이터 수\n",
        "    대장암: {len(drug_coad.bcr_patient_barcode.unique().tolist())}\n",
        "    난소암: {len(drug_ov.bcr_patient_barcode.unique().tolist())}\n",
        "    유방암: {len(drug_brca.bcr_patient_barcode.unique().tolist())}\n",
        "    자궁내막암: {len(drug_ucec.bcr_patient_barcode.unique().tolist())}\n",
        "\"\"\")"
      ],
      "execution_count": 12,
      "outputs": [
        {
          "output_type": "stream",
          "text": [
            "\n",
            "    각 암종별 환자 데이터 수\n",
            "    대장암: 154\n",
            "    난소암: 530\n",
            "    유방암: 780\n",
            "    자궁내막암: 201\n",
            "\n"
          ],
          "name": "stdout"
        }
      ]
    },
    {
      "cell_type": "code",
      "metadata": {
        "colab": {
          "base_uri": "https://localhost:8080/"
        },
        "id": "1J3kpEqpWyvo",
        "outputId": "f0400826-5816-4e72-c998-e1bb9f50d7d4"
      },
      "source": [
        "drug_list = drug_res['drug_name'].unique().tolist()\n",
        "drug_for_coad = drug_coad['drug_name'].unique().tolist()\n",
        "drug_for_ov = drug_ov['drug_name'].unique().tolist()\n",
        "drug_for_brca = drug_brca['drug_name'].unique().tolist()\n",
        "drug_for_ucec = drug_ucec['drug_name'].unique().tolist()\n",
        "\n",
        "print(f\"\"\"\n",
        "drug_response 데이터셋의 전체 약물: {len(drug_list)}\n",
        "\n",
        "COAD(대장암) 사용 약물: {len(drug_for_coad)}\n",
        "OV(난소암) 사용 약물: {len(drug_for_ov)}\n",
        "BRCA(유방암) 사용 약물: {len(drug_for_brca)}\n",
        "UCEC(자궁내막암) 사용 약물: {len(drug_for_ucec)}\n",
        "\"\"\")"
      ],
      "execution_count": 13,
      "outputs": [
        {
          "output_type": "stream",
          "text": [
            "\n",
            "drug_response 데이터셋의 전체 약물: 1065\n",
            "\n",
            "COAD(대장암) 사용 약물: 66\n",
            "OV(난소암) 사용 약물: 172\n",
            "BRCA(유방암) 사용 약물: 204\n",
            "UCEC(자궁내막암) 사용 약물: 65\n",
            "\n"
          ],
          "name": "stdout"
        }
      ]
    },
    {
      "cell_type": "code",
      "metadata": {
        "colab": {
          "base_uri": "https://localhost:8080/"
        },
        "id": "FmuHr0NF4bGK",
        "outputId": "e9ab254b-c8c0-4ec0-8b9d-9ad5486fcfd0"
      },
      "source": [
        "drug_coad.drug_name.unique()"
      ],
      "execution_count": 15,
      "outputs": [
        {
          "output_type": "execute_result",
          "data": {
            "text/plain": [
              "array(['5-FU', 'Oxaliplatin', 'Cetuximab Study drug', 'Leucovorin',\n",
              "       '5 FU', 'Folinic acid', '5-Fluorouracil', nan, 'XELODA', '5FU',\n",
              "       'Fluorouracil', 'oxaliplatin', 'Folinic Acid', 'Cetuximab',\n",
              "       'Bevacizumab', 'Irinotecan', 'Avastin', 'Xeloda', 'Folfox',\n",
              "       'Capecitabine', 'capecitabine', 'Floxuridine', 'Dexamethasone',\n",
              "       'Irinotecan HCl', 'Pegfilgrastim', 'Leucovorin Calcium',\n",
              "       'IRINOtecan HCl', 'Mitomycin', 'Camptosar',\n",
              "       'Calcium Foliatum, fluorouracilum, oxaliplatinum, dexamethassone',\n",
              "       'oxaliplatinum+5 fluorouracilum', '5- FU', 'Raltitrexed',\n",
              "       'leucovorin', 'fluorouracil', 'Erbitux', 'avastin', 'irinotecan',\n",
              "       'leucovorin calcium', 'bevacizumab', 'regorafenib',\n",
              "       'Pegfilgrastim (Peg G-CSF)', 'Filgrastim (G-CSF)',\n",
              "       'Irinotecan HCL', 'C1 FOLFIRI/Zaltrap', 'Irinotecan + Cetuximab',\n",
              "       'FOLFIRI/Avastin', 'FOLFOX', '5-Fluorouracil + leucovorin',\n",
              "       'FolFox', 'Oxaliplatin, Folinic acid, Fluorouracil', 'Panitumumab',\n",
              "       'CPT-11', 'FLUOROURACIL', 'OXALIPLATIN', 'BEVACIZUMAB',\n",
              "       'Levcovorin', 'Mitomycin C', 'BEVACIZumab', 'CETUXimab',\n",
              "       'oxaliplatinum+ 5-FU', 'Mayo 425-20', 'FOLFIRI', 'Folfiri',\n",
              "       '5-Fluoruoracil', 'Study drug AMG 655'], dtype=object)"
            ]
          },
          "metadata": {
            "tags": []
          },
          "execution_count": 15
        }
      ]
    },
    {
      "cell_type": "code",
      "metadata": {
        "colab": {
          "base_uri": "https://localhost:8080/"
        },
        "id": "azZgwlgPXPyS",
        "outputId": "caeb1f11-b578-4e31-a00e-11f926ee54fa"
      },
      "source": [
        "drug_ov.drug_name.unique()"
      ],
      "execution_count": null,
      "outputs": [
        {
          "output_type": "execute_result",
          "data": {
            "text/plain": [
              "array(['Taxotere', 'Cisplatin', 'Topotecan', 'Taxol', 'Doxil',\n",
              "       'Mitomycin C', 'Carboplatin', 'Tamoxifen', 'Gemcitabine',\n",
              "       'Navelbine', 'Paciltaxel', 'Paclitaxel', 'Gemzet', 'Etoposide',\n",
              "       'Cytoxan', 'Liposomal Doxorubicin', 'Carboplatin #1', 'Hexalen',\n",
              "       'carboplatin', 'Gemzar', 'Cisplatin #2-7', 'Avastin', 'Patupilone',\n",
              "       'Cediranib Placebo', 'Docetaxel', nan, 'VP 16', 'Armidex',\n",
              "       'Letrozole', 'Lupron', 'Toptecan', 'Pacliatxel', 'Doxetaxel',\n",
              "       'Oxaliplatin', 'Abagovomab or Placebo', 'Interferon gamma',\n",
              "       'Vamydex', 'Cisplatinum', 'Gemcitibine', 'Carboplatinum',\n",
              "       'Abagovomab vs Placebo', 'Femara', 'Taxoterecin', 'Carbo',\n",
              "       'Hexalin', 'Cetuximab', 'Doxorubicin HCL', 'Doxorubicin',\n",
              "       'Bevacizumab or placebo', 'Carbplatin', 'Topetecan',\n",
              "       'Bevacizumab or Placebo', 'Adriamycin', 'Trabectedin',\n",
              "       'Sargramostin', 'paclitaxel', 'SNS 595', 'Taxol or Taxotere',\n",
              "       'Bevacizumab', 'Xyotax', 'topotecan', 'taxol', 'Paclitaxil',\n",
              "       'Liposomal Doxorubican', 'Gemcitabine HCL',\n",
              "       'Avastin (Bevacizumab)', 'Cyclophosphamide', 'Gamzar',\n",
              "       'Cisplatin/Gemzar', 'Xeloda', 'Ovarex/IND', 'Gemicitabine',\n",
              "       'Paciltaxle', 'carbopaltin', 'Catumaxumab', 'Altima', 'Cytoxin',\n",
              "       'Amitostin', 'Etopside', 'Gemcitibane', 'Investigal drug Avastin',\n",
              "       'Melphalon', 'Avastin/bevacizumab/placebo',\n",
              "       'Topotecan/Carboplatin', 'Taxol/Carboplatin',\n",
              "       'Bevacizamab/Placebo', 'Clinical Trial', 'Topotecan HCL',\n",
              "       'Doxorubicin HCI Liiposomal', 'Ovarex Study', 'Melphalan',\n",
              "       'Paraplatin', 'CCDP', 'Amitostine', 'VP16', 'Gezmar', 'Arimidex',\n",
              "       'Topecan', 'Carboplatin 6th', 'gemcitabine', 'doxil', 'Pacitaxel',\n",
              "       'Vincristine', 'Mitoxantrone', 'Decodron', 'Ciplastin',\n",
              "       'Liosomal Docorubicin', 'Carbobplatin', 'Vinorelbine',\n",
              "       'BA4 43 9006', 'GOG182', 'Chlorambucil', '5F4 Leucovorin',\n",
              "       'RBBX 01', 'CBP501', 'Doxorubicin HCI Lipsome', 'Fuluestrant',\n",
              "       'Aromasin', 'Faslodex', 'CPT 11', 'SCH 58500',\n",
              "       'Gaminocamptothecin', 'Aminopterin', 'IL 12', 'Oral Etoposide',\n",
              "       'Megace', 'Provera', 'Paciltaxal', 'Gemar', 'Etoposide (VP16)',\n",
              "       'Ifosfamide', 'Rhumab/Ind', 'Alimta', 'Bevacizumab vs Placebo',\n",
              "       'Megace (oral)', '90Y-HU3S193', 'Pacliltaxel', 'GOG 218',\n",
              "       'Oca Rex Oregovomab', 'AZD 2281', 'Ovarex MA6 B43.13',\n",
              "       'Hexamethylmelamine', 'Bevacizumiab/ versus Placebo', 'Irolfluvin',\n",
              "       'Herceptin', 'Irressa', 'Ovarex/placebo', 'Hexamethymelamine',\n",
              "       'Gemzan', 'Velcade', 'CT2103 Taxane Analog',\n",
              "       'Doxorubicin HCL Liposomal', 'AMG 706', 'Ifostamide', 'PSC833',\n",
              "       'Gomzar', 'Cytoxen', 'Megestrol Acetate', 'Ovarex/Placebo', 'IL 2',\n",
              "       'Abagovomag vs Placebo', 'Pacilatxel', 'Taxane', 'Interleukin-12',\n",
              "       'Doxorubincin HCL', 'CEP 11981', 'Abraxane', 'Gemcitabine HCI',\n",
              "       'Paclitaxel; Albumin-Bount', 'Doxorubicin HCL Liposomal -Doxil',\n",
              "       'Amgen 706', 'A202171 Protocol'], dtype=object)"
            ]
          },
          "metadata": {
            "tags": []
          },
          "execution_count": 14
        }
      ]
    },
    {
      "cell_type": "code",
      "metadata": {
        "colab": {
          "base_uri": "https://localhost:8080/"
        },
        "id": "ZT3EtrArXwQO",
        "outputId": "2aba2c33-a118-4bbc-d811-b300483e124f"
      },
      "source": [
        "brca_drug = drug_brca.drug_name.unique().tolist()\n",
        "brca_drug  = [str(drug).upper() for drug in brca_drug]\n",
        "len(brca_drug)"
      ],
      "execution_count": null,
      "outputs": [
        {
          "output_type": "execute_result",
          "data": {
            "text/plain": [
              "204"
            ]
          },
          "metadata": {
            "tags": []
          },
          "execution_count": 23
        }
      ]
    },
    {
      "cell_type": "code",
      "metadata": {
        "colab": {
          "base_uri": "https://localhost:8080/"
        },
        "id": "8PmldSCGYG0J",
        "outputId": "a7b6fb4e-342d-461f-98b4-ea66962cf42a"
      },
      "source": [
        "unique_brca_drug = list(set(brca_drug))\n",
        "len(unique_brca_drug)"
      ],
      "execution_count": null,
      "outputs": [
        {
          "output_type": "execute_result",
          "data": {
            "text/plain": [
              "147"
            ]
          },
          "metadata": {
            "tags": []
          },
          "execution_count": 26
        }
      ]
    },
    {
      "cell_type": "code",
      "metadata": {
        "colab": {
          "base_uri": "https://localhost:8080/"
        },
        "id": "TK_5BT8hYdrM",
        "outputId": "95e49153-e665-4afb-8994-132fa735a01c"
      },
      "source": [
        "unique_brca_drug"
      ],
      "execution_count": null,
      "outputs": [
        {
          "output_type": "execute_result",
          "data": {
            "text/plain": [
              "['DOXIL',\n",
              " 'ARIMIDEX',\n",
              " 'VINORELBINE',\n",
              " 'CYCLOPHOSPHAMIDE+METHOTREXATUM+FLUOROURACILLUM',\n",
              " 'TESETAXEL',\n",
              " 'FLUOROURACIL',\n",
              " 'TAMOXIPHENE+ANASTROZOLUM',\n",
              " 'NEULASTA',\n",
              " 'ADRIAMYCIN+CYCLOPHOSPHAMIDE',\n",
              " 'CYCLOPHOSPHAMIDE',\n",
              " 'CHEMO, NOS',\n",
              " 'DOXORUBICINUM',\n",
              " 'AC',\n",
              " 'CLODRONIC ACID',\n",
              " 'ADRIAMICIN',\n",
              " 'LEUPROLIDE',\n",
              " 'LETROZOL',\n",
              " 'METOTREKSAT',\n",
              " 'DOXORUBICINE',\n",
              " 'NAVELBINE',\n",
              " 'ADRIAMYCIN, CYTOXAN, AVASTIN',\n",
              " 'TAMOXIPHENE+LEUPORELINE+GOSERELINE',\n",
              " 'ADRIAMYCIN+CUCLOPHOSPHAMIDE',\n",
              " '5-FLOUROURACIL',\n",
              " 'DOXORUBICIN LIPOSOME',\n",
              " 'TAXOTERE/CYTOXAN',\n",
              " 'CYCLOPHOSPHAMIDUM',\n",
              " 'TAMOXIPHEN+ANASTRAZOLUM',\n",
              " 'TAXOL',\n",
              " 'AROMASIN',\n",
              " 'METHOTREXATE+5 FLUOROURACIL+CYCLOPHOSPHAMIDE',\n",
              " 'ADRIMYCIN',\n",
              " 'LEUPROLIDE ACETATE (LUPRON)',\n",
              " 'NAN',\n",
              " 'MITOMYCIN',\n",
              " 'XELODA',\n",
              " 'TC',\n",
              " 'GOSERELIN',\n",
              " 'LEUPRORELIN',\n",
              " 'IXABEPILONE',\n",
              " 'ADRIAMYCIN+CYCLOPHOSPHAMID',\n",
              " 'TAXANE',\n",
              " 'FARESTON',\n",
              " 'TAMOXIFEN CITRATE',\n",
              " 'TAMOXIFEN (NOVADEX)',\n",
              " 'AVASTIN',\n",
              " '5-FLUOROURACIL',\n",
              " 'CYCLOPHOSPHANE',\n",
              " 'ALOXI',\n",
              " 'LAPATINIB',\n",
              " 'CISPLATIN',\n",
              " 'RITUXIMAB',\n",
              " 'LETROZOLUM',\n",
              " 'FULVESTRANT',\n",
              " 'CYTOXAN',\n",
              " 'TRIPTORELIN',\n",
              " 'CAPECETABINE',\n",
              " 'IBANDRONATE',\n",
              " '5 FLUOROURACIL',\n",
              " 'FLOUROURACIL',\n",
              " 'LUPRON',\n",
              " 'CYOTXAN',\n",
              " 'CAPECITABINE',\n",
              " 'PACLITAXELUM',\n",
              " 'CYTOXAN AND TAXOTERE',\n",
              " 'CYTOXEN',\n",
              " 'TRASTUZUMAB',\n",
              " 'LETROZOLE',\n",
              " 'CYCLOPHOSPAMIDE',\n",
              " 'POLY E',\n",
              " 'BEVACIZUMAB',\n",
              " 'EVEROLIMUS',\n",
              " 'EPIRUBICOIN',\n",
              " 'TAMOXIFEN',\n",
              " 'AE-37',\n",
              " 'PEMETREXED',\n",
              " 'PAMIDRONATE',\n",
              " 'GEMZAR',\n",
              " 'FEMARA (LETROZOLE)',\n",
              " 'CYCLOPHASPHAMIDE',\n",
              " 'HERCEPTIN',\n",
              " 'DOXORUBICIN+ CYCLOPHOSPHAMIDE',\n",
              " 'EXEMESTANE',\n",
              " 'GEMCITABINE',\n",
              " 'ANASTRAZOLE',\n",
              " 'E-75',\n",
              " 'DOXORUBICIN',\n",
              " 'YONDELIS',\n",
              " 'ZOMETA',\n",
              " 'EXEMESTANE (AROMASIN)',\n",
              " 'NOT OTHERWISE SPECIFIED',\n",
              " 'AROMASIN (EXEMESTANE)',\n",
              " 'ANASTROZOLE',\n",
              " 'TAXOL+ADRIAMYCIN+CYCLOPHOSPHAMIDE+HERCEPTIN',\n",
              " 'ZOLADEX',\n",
              " 'LETROZOLE (FEMARA)',\n",
              " 'DOXORUBICIN+CYCLOPHOSPHAMID',\n",
              " 'FEMARA',\n",
              " 'DOXORUBICIN HCL',\n",
              " 'MESNA-1',\n",
              " 'MITOXANTRONE',\n",
              " 'IFOSFAMIDE',\n",
              " 'ZOLEDRONIC ACID',\n",
              " 'ADRIMICIN+CYCLOPHOSPHAMIDE',\n",
              " 'PREDNISONE',\n",
              " '5-FU',\n",
              " 'ANASTROZOLUM',\n",
              " 'VINCRISTINE',\n",
              " 'ARIMIDEX (ANASTROZOLE)',\n",
              " 'TAXOTERE',\n",
              " 'EPIRUBICIN',\n",
              " 'ADRIAMYCIN',\n",
              " 'PACLITAXEL (PROTEIN-BOUND)',\n",
              " 'XGEVA',\n",
              " 'DOXORUBICINE+CYCLOPHOSPHAMIDE+TAMOXIFEN',\n",
              " 'VINBLASTINE',\n",
              " 'TCH',\n",
              " 'CARBOPLATIN',\n",
              " 'FULVESTRANT (FASLODEX)',\n",
              " 'MESNA-2',\n",
              " 'NOLVADEX',\n",
              " 'BEVACIZUMAB (AVASTIN)/PLACEBO PROVIDED BY STUDY',\n",
              " 'ALBUMIN-BOUND PACLITAXEL',\n",
              " 'AROMATASE EXEMESTANE',\n",
              " 'CYCLOPHOSPHAMID',\n",
              " 'DENOSUMAB',\n",
              " 'CLODRONATE',\n",
              " 'METHOTREXATE',\n",
              " 'XELODA (CAPECITABINE)',\n",
              " 'FASLODEX',\n",
              " 'HORMONE, NOS',\n",
              " 'PACLITAXEL',\n",
              " 'ANASTROZOLE (ARIMIDEX)',\n",
              " 'DOXORUBICINE+CYCLOPHOSPHAMIDE',\n",
              " 'MEGACE',\n",
              " 'DOXORUBICINE CYCLOPHOSPHAMIDE TAMOXIFEN',\n",
              " 'METFORMIN',\n",
              " 'PAMIDRONIC ACID',\n",
              " 'DOXETAXEL',\n",
              " 'ADRIMYCIN+CYCLOPHOSPHAMIDE',\n",
              " 'TAMOXIPHENE',\n",
              " 'TRUSTUZUMAB',\n",
              " 'DOCETAXEL',\n",
              " 'ADRIAMYICIN',\n",
              " 'ABRAXANE',\n",
              " 'BEVACIZUMAB OR PLACEBO',\n",
              " 'VP-16']"
            ]
          },
          "metadata": {
            "tags": []
          },
          "execution_count": 27
        }
      ]
    },
    {
      "cell_type": "code",
      "metadata": {
        "id": "178d9GsdabBp"
      },
      "source": [
        ""
      ],
      "execution_count": null,
      "outputs": []
    }
  ]
}