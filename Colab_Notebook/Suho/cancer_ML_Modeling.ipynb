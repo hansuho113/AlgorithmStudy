{
  "nbformat": 4,
  "nbformat_minor": 0,
  "metadata": {
    "colab": {
      "name": "cancer_ML_Modeling.ipynb",
      "provenance": [],
      "collapsed_sections": [],
      "authorship_tag": "ABX9TyO1fFxbHjIq24D9BUZ8oEl8",
      "include_colab_link": true
    },
    "kernelspec": {
      "name": "python3",
      "display_name": "Python 3"
    },
    "language_info": {
      "name": "python"
    },
    "accelerator": "GPU"
  },
  "cells": [
    {
      "cell_type": "markdown",
      "metadata": {
        "id": "view-in-github",
        "colab_type": "text"
      },
      "source": [
        "<a href=\"https://colab.research.google.com/github/hansuho113/AlgorithmBook/blob/master/Colab_Notebook/Suho/cancer_ML_Modeling.ipynb\" target=\"_parent\"><img src=\"https://colab.research.google.com/assets/colab-badge.svg\" alt=\"Open In Colab\"/></a>"
      ]
    },
    {
      "cell_type": "code",
      "metadata": {
        "colab": {
          "base_uri": "https://localhost:8080/"
        },
        "id": "66kSCNvcUh3A",
        "outputId": "7c2256f7-f72e-4d54-9786-bf75a77d1cf6"
      },
      "source": [
        "from google.colab import drive\n",
        "drive.mount(\"/content/drive\")"
      ],
      "execution_count": 1,
      "outputs": [
        {
          "output_type": "stream",
          "text": [
            "Mounted at /content/drive\n"
          ],
          "name": "stdout"
        }
      ]
    },
    {
      "cell_type": "code",
      "metadata": {
        "id": "ebRYzZSHUpO2"
      },
      "source": [
        "import pandas as pd\n",
        "import numpy as np\n",
        "import matplotlib.pyplot as plt\n",
        "import seaborn as sns\n",
        "\n",
        "from sklearn.ensemble import RandomForestClassifier\n",
        "from sklearn.ensemble import BaggingClassifier\n",
        "from sklearn.tree import DecisionTreeClassifier\n",
        "\n",
        "from sklearn.svm import LinearSVC\n",
        "from sklearn.svm import SVC\n",
        "\n",
        "import keras\n",
        "import tensorflow as tf\n",
        "from tensorflow.keras import layers\n",
        "from tensorflow.keras.models import Sequential\n",
        "from tensorflow.keras.layers import Dense\n",
        "from tensorflow.keras.optimizers import Adam\n",
        "\n",
        "from keras.callbacks import EarlyStopping\n",
        "from keras.callbacks import ModelCheckpoint\n",
        "\n",
        "from sklearn.model_selection import train_test_split, GridSearchCV\n",
        "from sklearn.preprocessing import StandardScaler, LabelEncoder, OneHotEncoder\n",
        "from sklearn import metrics\n",
        "from sklearn.metrics import accuracy_score, f1_score\n",
        "\n",
        "# import mglearn"
      ],
      "execution_count": 11,
      "outputs": []
    },
    {
      "cell_type": "markdown",
      "metadata": {
        "id": "4PuFIyUZVjwd"
      },
      "source": [
        "# Dataset"
      ]
    },
    {
      "cell_type": "code",
      "metadata": {
        "id": "kC3mprJ3W6Sp"
      },
      "source": [
        "original_df = pd.read_csv(\"/content/drive/MyDrive/SW21Project/drug_gene_preprocessed.csv\")"
      ],
      "execution_count": 3,
      "outputs": []
    },
    {
      "cell_type": "markdown",
      "metadata": {
        "id": "pusCtZ69W_Xi"
      },
      "source": [
        "## Data Preprocessing"
      ]
    },
    {
      "cell_type": "code",
      "metadata": {
        "id": "v__DF0neXCgH"
      },
      "source": [
        "df = original_df.copy()\n",
        "\n",
        "# ?로 시작하는 gene_exp 관련 컬럼 및 불필요한 컬럼 제거\n",
        "df.drop(df.columns[7:36], axis=1, inplace=True)\n",
        "df.drop(['measure_of_response', 'bcr_patient_barcode'], axis=1, inplace=True)\n",
        "df.rename(columns={'index':'patient_barcode'}, inplace=True)\n",
        "\n",
        "# one_hot_encoding\n",
        "df = pd.get_dummies(df,\n",
        "               prefix=['drugname', 'indication', 'therapy_types'],\n",
        "               columns=['drug_name_', 'regimen_indication', 'therapy_types'])"
      ],
      "execution_count": 4,
      "outputs": []
    },
    {
      "cell_type": "code",
      "metadata": {
        "colab": {
          "base_uri": "https://localhost:8080/",
          "height": 228
        },
        "id": "NFU372ErX1L9",
        "outputId": "8586a3e3-1002-4f98-d800-9ebea5a28e1c"
      },
      "source": [
        "df.head(2)"
      ],
      "execution_count": null,
      "outputs": [
        {
          "output_type": "execute_result",
          "data": {
            "text/html": [
              "<div>\n",
              "<style scoped>\n",
              "    .dataframe tbody tr th:only-of-type {\n",
              "        vertical-align: middle;\n",
              "    }\n",
              "\n",
              "    .dataframe tbody tr th {\n",
              "        vertical-align: top;\n",
              "    }\n",
              "\n",
              "    .dataframe thead th {\n",
              "        text-align: right;\n",
              "    }\n",
              "</style>\n",
              "<table border=\"1\" class=\"dataframe\">\n",
              "  <thead>\n",
              "    <tr style=\"text-align: right;\">\n",
              "      <th></th>\n",
              "      <th>patient_barcode</th>\n",
              "      <th>therapy_response</th>\n",
              "      <th>A1BG|1</th>\n",
              "      <th>A1CF|29974</th>\n",
              "      <th>A2BP1|54715</th>\n",
              "      <th>A2LD1|87769</th>\n",
              "      <th>A2M|2</th>\n",
              "      <th>A2ML1|144568</th>\n",
              "      <th>A4GALT|53947</th>\n",
              "      <th>A4GNT|51146</th>\n",
              "      <th>AAA1|404744</th>\n",
              "      <th>AAAS|8086</th>\n",
              "      <th>AACS|65985</th>\n",
              "      <th>AACSL|729522</th>\n",
              "      <th>AADAC|13</th>\n",
              "      <th>AADACL2|344752</th>\n",
              "      <th>AADACL3|126767</th>\n",
              "      <th>AADACL4|343066</th>\n",
              "      <th>AADAT|51166</th>\n",
              "      <th>AAGAB|79719</th>\n",
              "      <th>AAK1|22848</th>\n",
              "      <th>AAMP|14</th>\n",
              "      <th>AANAT|15</th>\n",
              "      <th>AARS|16</th>\n",
              "      <th>AARS2|57505</th>\n",
              "      <th>AARSD1|80755</th>\n",
              "      <th>AASDH|132949</th>\n",
              "      <th>AASDHPPT|60496</th>\n",
              "      <th>AASS|10157</th>\n",
              "      <th>AATF|26574</th>\n",
              "      <th>AATK|9625</th>\n",
              "      <th>ABAT|18</th>\n",
              "      <th>ABCA10|10349</th>\n",
              "      <th>ABCA1|19</th>\n",
              "      <th>ABCA11P|79963</th>\n",
              "      <th>ABCA12|26154</th>\n",
              "      <th>ABCA13|154664</th>\n",
              "      <th>ABCA17P|650655</th>\n",
              "      <th>ABCA2|20</th>\n",
              "      <th>ABCA3|21</th>\n",
              "      <th>...</th>\n",
              "      <th>ZSCAN5A|79149</th>\n",
              "      <th>ZSCAN5B|342933</th>\n",
              "      <th>ZSWIM1|90204</th>\n",
              "      <th>ZSWIM2|151112</th>\n",
              "      <th>ZSWIM3|140831</th>\n",
              "      <th>ZSWIM4|65249</th>\n",
              "      <th>ZSWIM5|57643</th>\n",
              "      <th>ZSWIM6|57688</th>\n",
              "      <th>ZSWIM7|125150</th>\n",
              "      <th>ZUFSP|221302</th>\n",
              "      <th>ZW10|9183</th>\n",
              "      <th>ZWILCH|55055</th>\n",
              "      <th>ZWINT|11130</th>\n",
              "      <th>ZXDA|7789</th>\n",
              "      <th>ZXDB|158586</th>\n",
              "      <th>ZXDC|79364</th>\n",
              "      <th>ZYG11A|440590</th>\n",
              "      <th>ZYG11B|79699</th>\n",
              "      <th>ZYX|7791</th>\n",
              "      <th>ZZEF1|23140</th>\n",
              "      <th>ZZZ3|26009</th>\n",
              "      <th>drugname_bevacizumab</th>\n",
              "      <th>drugname_capecitabine</th>\n",
              "      <th>drugname_fluorouracil</th>\n",
              "      <th>drugname_folinic</th>\n",
              "      <th>drugname_irinotecan</th>\n",
              "      <th>drugname_oxaliplatin</th>\n",
              "      <th>indication_ADJUVANT</th>\n",
              "      <th>indication_OTHER, SPECIFY IN NOTES</th>\n",
              "      <th>indication_PROGRESSION</th>\n",
              "      <th>indication_RECURRENCE</th>\n",
              "      <th>indication_unknown</th>\n",
              "      <th>therapy_types_Ancillary</th>\n",
              "      <th>therapy_types_Chemotherapy</th>\n",
              "      <th>therapy_types_Immunotherapy</th>\n",
              "      <th>therapy_types_Other, specify in notesAncillary</th>\n",
              "      <th>therapy_types_Other, specify in notesAncillary Agent</th>\n",
              "      <th>therapy_types_Other, specify in notesancillary</th>\n",
              "      <th>therapy_types_Targeted Molecular therapy</th>\n",
              "      <th>therapy_types_unknown</th>\n",
              "    </tr>\n",
              "  </thead>\n",
              "  <tbody>\n",
              "    <tr>\n",
              "      <th>0</th>\n",
              "      <td>TCGA-A6-6648-01A-11R-1774-07</td>\n",
              "      <td>unknown</td>\n",
              "      <td>6.7929</td>\n",
              "      <td>191.614</td>\n",
              "      <td>6.8615</td>\n",
              "      <td>101.741</td>\n",
              "      <td>4753.24</td>\n",
              "      <td>0.2541</td>\n",
              "      <td>48.0305</td>\n",
              "      <td>0.0</td>\n",
              "      <td>0.2541</td>\n",
              "      <td>748.92</td>\n",
              "      <td>951.207</td>\n",
              "      <td>0.0</td>\n",
              "      <td>3.5578</td>\n",
              "      <td>0.2541</td>\n",
              "      <td>0.0</td>\n",
              "      <td>0.0</td>\n",
              "      <td>215.248</td>\n",
              "      <td>1728.08</td>\n",
              "      <td>995.68</td>\n",
              "      <td>2034.31</td>\n",
              "      <td>0.2541</td>\n",
              "      <td>2742.82</td>\n",
              "      <td>702.9</td>\n",
              "      <td>718.17</td>\n",
              "      <td>212.707</td>\n",
              "      <td>1094.28</td>\n",
              "      <td>79.0343</td>\n",
              "      <td>1883.61</td>\n",
              "      <td>48.0305</td>\n",
              "      <td>855.146</td>\n",
              "      <td>7.6239</td>\n",
              "      <td>616.768</td>\n",
              "      <td>84.6074</td>\n",
              "      <td>3.3037</td>\n",
              "      <td>21.3469</td>\n",
              "      <td>1.7789</td>\n",
              "      <td>576.62</td>\n",
              "      <td>61.4994</td>\n",
              "      <td>...</td>\n",
              "      <td>134.435</td>\n",
              "      <td>1.7789</td>\n",
              "      <td>518.678</td>\n",
              "      <td>0.0</td>\n",
              "      <td>309.022</td>\n",
              "      <td>240.661</td>\n",
              "      <td>703.939</td>\n",
              "      <td>488.437</td>\n",
              "      <td>110.066</td>\n",
              "      <td>233.799</td>\n",
              "      <td>892.503</td>\n",
              "      <td>940.455</td>\n",
              "      <td>1146.63</td>\n",
              "      <td>66.8361</td>\n",
              "      <td>558.577</td>\n",
              "      <td>988.31</td>\n",
              "      <td>1.0165</td>\n",
              "      <td>1029.22</td>\n",
              "      <td>2791.87</td>\n",
              "      <td>2283.1</td>\n",
              "      <td>1205.59</td>\n",
              "      <td>0</td>\n",
              "      <td>0</td>\n",
              "      <td>0</td>\n",
              "      <td>0</td>\n",
              "      <td>0</td>\n",
              "      <td>1</td>\n",
              "      <td>0</td>\n",
              "      <td>1</td>\n",
              "      <td>0</td>\n",
              "      <td>0</td>\n",
              "      <td>0</td>\n",
              "      <td>0</td>\n",
              "      <td>0</td>\n",
              "      <td>0</td>\n",
              "      <td>0</td>\n",
              "      <td>0</td>\n",
              "      <td>0</td>\n",
              "      <td>0</td>\n",
              "      <td>1</td>\n",
              "    </tr>\n",
              "    <tr>\n",
              "      <th>1</th>\n",
              "      <td>TCGA-A6-6648-01A-11R-1774-07</td>\n",
              "      <td>unknown</td>\n",
              "      <td>6.7929</td>\n",
              "      <td>191.614</td>\n",
              "      <td>6.8615</td>\n",
              "      <td>101.741</td>\n",
              "      <td>4753.24</td>\n",
              "      <td>0.2541</td>\n",
              "      <td>48.0305</td>\n",
              "      <td>0.0</td>\n",
              "      <td>0.2541</td>\n",
              "      <td>748.92</td>\n",
              "      <td>951.207</td>\n",
              "      <td>0.0</td>\n",
              "      <td>3.5578</td>\n",
              "      <td>0.2541</td>\n",
              "      <td>0.0</td>\n",
              "      <td>0.0</td>\n",
              "      <td>215.248</td>\n",
              "      <td>1728.08</td>\n",
              "      <td>995.68</td>\n",
              "      <td>2034.31</td>\n",
              "      <td>0.2541</td>\n",
              "      <td>2742.82</td>\n",
              "      <td>702.9</td>\n",
              "      <td>718.17</td>\n",
              "      <td>212.707</td>\n",
              "      <td>1094.28</td>\n",
              "      <td>79.0343</td>\n",
              "      <td>1883.61</td>\n",
              "      <td>48.0305</td>\n",
              "      <td>855.146</td>\n",
              "      <td>7.6239</td>\n",
              "      <td>616.768</td>\n",
              "      <td>84.6074</td>\n",
              "      <td>3.3037</td>\n",
              "      <td>21.3469</td>\n",
              "      <td>1.7789</td>\n",
              "      <td>576.62</td>\n",
              "      <td>61.4994</td>\n",
              "      <td>...</td>\n",
              "      <td>134.435</td>\n",
              "      <td>1.7789</td>\n",
              "      <td>518.678</td>\n",
              "      <td>0.0</td>\n",
              "      <td>309.022</td>\n",
              "      <td>240.661</td>\n",
              "      <td>703.939</td>\n",
              "      <td>488.437</td>\n",
              "      <td>110.066</td>\n",
              "      <td>233.799</td>\n",
              "      <td>892.503</td>\n",
              "      <td>940.455</td>\n",
              "      <td>1146.63</td>\n",
              "      <td>66.8361</td>\n",
              "      <td>558.577</td>\n",
              "      <td>988.31</td>\n",
              "      <td>1.0165</td>\n",
              "      <td>1029.22</td>\n",
              "      <td>2791.87</td>\n",
              "      <td>2283.1</td>\n",
              "      <td>1205.59</td>\n",
              "      <td>0</td>\n",
              "      <td>0</td>\n",
              "      <td>0</td>\n",
              "      <td>1</td>\n",
              "      <td>0</td>\n",
              "      <td>0</td>\n",
              "      <td>0</td>\n",
              "      <td>1</td>\n",
              "      <td>0</td>\n",
              "      <td>0</td>\n",
              "      <td>0</td>\n",
              "      <td>0</td>\n",
              "      <td>0</td>\n",
              "      <td>0</td>\n",
              "      <td>0</td>\n",
              "      <td>0</td>\n",
              "      <td>0</td>\n",
              "      <td>0</td>\n",
              "      <td>1</td>\n",
              "    </tr>\n",
              "  </tbody>\n",
              "</table>\n",
              "<p>2 rows × 20523 columns</p>\n",
              "</div>"
            ],
            "text/plain": [
              "                patient_barcode  ... therapy_types_unknown\n",
              "0  TCGA-A6-6648-01A-11R-1774-07  ...                     1\n",
              "1  TCGA-A6-6648-01A-11R-1774-07  ...                     1\n",
              "\n",
              "[2 rows x 20523 columns]"
            ]
          },
          "metadata": {
            "tags": []
          },
          "execution_count": 6
        }
      ]
    },
    {
      "cell_type": "code",
      "metadata": {
        "id": "Mmc0eZQPZifR"
      },
      "source": [
        "data = np.array(df[df.columns.difference(['patient_barcode', 'therapy_response'])])\n",
        "target = np.array(df.therapy_response)\n",
        "np.asarray(data).astype('float32')\n",
        "\n",
        "# label encoding on target array\n",
        "encoder = LabelEncoder()\n",
        "encoder.fit(target)\n",
        "labels = encoder.transform(target)\n",
        "target = labels\n",
        "\n",
        "# split the data\n",
        "X_train, X_test, y_train, y_test = train_test_split(data, target, test_size=0.2, random_state=2021)"
      ],
      "execution_count": 5,
      "outputs": []
    },
    {
      "cell_type": "code",
      "metadata": {
        "colab": {
          "base_uri": "https://localhost:8080/"
        },
        "id": "yYsMBMcAbHAP",
        "outputId": "4b711288-d039-4793-aac0-b6370d2d9d04"
      },
      "source": [
        "print(f\"\"\"\n",
        "X_train dataset: {X_train.shape}\n",
        "X_test dataset: {X_test.shape}\n",
        "\n",
        "y_train dataset: {y_train.shape}\n",
        "y_test dataset: {y_test.shape}\n",
        "\"\"\")"
      ],
      "execution_count": null,
      "outputs": [
        {
          "output_type": "stream",
          "text": [
            "\n",
            "X_train dataset: (196, 20521)\n",
            "X_test dataset: (49, 20521)\n",
            "\n",
            "y_train dataset: (196,)\n",
            "y_test dataset: (49,)\n",
            "\n"
          ],
          "name": "stdout"
        }
      ]
    },
    {
      "cell_type": "markdown",
      "metadata": {
        "id": "IRZIbXBebavU"
      },
      "source": [
        "# Modeling"
      ]
    },
    {
      "cell_type": "markdown",
      "metadata": {
        "id": "b8fb6d0Wb59w"
      },
      "source": [
        "## Support Vector Machine Classifier"
      ]
    },
    {
      "cell_type": "code",
      "metadata": {
        "id": "14_251RmeXh1",
        "colab": {
          "base_uri": "https://localhost:8080/"
        },
        "outputId": "b60ee8e9-755e-4220-f2a1-55484808ae89"
      },
      "source": [
        "# hyper parameter tuning\n",
        "svc_param_grid = {\"C\": [0.0001, 0.001, 0.01, 1, 10, 100, 1000],\n",
        "              \"gamma\": [0.0001, 0.001, 0.01, 1, 10, 100, 1000]}\n",
        "grid_search_svc = GridSearchCV(SVC(),\n",
        "                           svc_param_grid,\n",
        "                           scoring='accuracy',\n",
        "                           cv=5,\n",
        "                           return_train_score=True,\n",
        "                           n_jobs=-1,\n",
        "                           verbose=1)\n",
        "grid_search_svc.fit(X_train, y_train)"
      ],
      "execution_count": null,
      "outputs": [
        {
          "output_type": "stream",
          "text": [
            "Fitting 5 folds for each of 49 candidates, totalling 245 fits\n"
          ],
          "name": "stdout"
        },
        {
          "output_type": "stream",
          "text": [
            "[Parallel(n_jobs=-1)]: Using backend LokyBackend with 2 concurrent workers.\n",
            "[Parallel(n_jobs=-1)]: Done  46 tasks      | elapsed:   26.4s\n",
            "[Parallel(n_jobs=-1)]: Done 196 tasks      | elapsed:  2.5min\n",
            "[Parallel(n_jobs=-1)]: Done 245 out of 245 | elapsed:  3.2min finished\n"
          ],
          "name": "stderr"
        },
        {
          "output_type": "execute_result",
          "data": {
            "text/plain": [
              "GridSearchCV(cv=5, error_score=nan,\n",
              "             estimator=SVC(C=1.0, break_ties=False, cache_size=200,\n",
              "                           class_weight=None, coef0=0.0,\n",
              "                           decision_function_shape='ovr', degree=3,\n",
              "                           gamma='scale', kernel='rbf', max_iter=-1,\n",
              "                           probability=False, random_state=None, shrinking=True,\n",
              "                           tol=0.001, verbose=False),\n",
              "             iid='deprecated', n_jobs=-1,\n",
              "             param_grid={'C': [0.0001, 0.001, 0.01, 1, 10, 100, 1000],\n",
              "                         'gamma': [0.0001, 0.001, 0.01, 1, 10, 100, 1000]},\n",
              "             pre_dispatch='2*n_jobs', refit=True, return_train_score=True,\n",
              "             scoring='accuracy', verbose=1)"
            ]
          },
          "metadata": {
            "tags": []
          },
          "execution_count": 11
        }
      ]
    },
    {
      "cell_type": "code",
      "metadata": {
        "colab": {
          "base_uri": "https://localhost:8080/"
        },
        "id": "5AzajFZ8larD",
        "outputId": "56de07e4-985f-4d94-de22-ee9610695816"
      },
      "source": [
        "print(f\"test set score: {np.round(grid_search_svc.score(X_test, y_test), 4)}\")\n",
        "\n",
        "print(f\"best parameters: {grid_search_svc.best_params_}\")\n",
        "print(f\"bset score: {np.round(grid_search_svc.best_score_, 4)}\")"
      ],
      "execution_count": null,
      "outputs": [
        {
          "output_type": "stream",
          "text": [
            "test set score: 0.898\n",
            "best parameters: {'C': 100, 'gamma': 0.01}\n",
            "bset score: 0.8978\n"
          ],
          "name": "stdout"
        }
      ]
    },
    {
      "cell_type": "code",
      "metadata": {
        "colab": {
          "base_uri": "https://localhost:8080/"
        },
        "id": "SgXMKE4Z40Ti",
        "outputId": "9296fd5a-708b-40a2-d2ea-bdd3efe8ce47"
      },
      "source": [
        "svc = SVC(C=100, gamma=0.01)\n",
        "svc.fit(X_train, y_train)"
      ],
      "execution_count": null,
      "outputs": [
        {
          "output_type": "execute_result",
          "data": {
            "text/plain": [
              "SVC(C=100, break_ties=False, cache_size=200, class_weight=None, coef0=0.0,\n",
              "    decision_function_shape='ovr', degree=3, gamma=0.01, kernel='rbf',\n",
              "    max_iter=-1, probability=False, random_state=None, shrinking=True,\n",
              "    tol=0.001, verbose=False)"
            ]
          },
          "metadata": {
            "tags": []
          },
          "execution_count": 9
        }
      ]
    },
    {
      "cell_type": "code",
      "metadata": {
        "id": "Lzb2DgqurJbN"
      },
      "source": [
        "svc_pred = svc.predict(X_test)"
      ],
      "execution_count": null,
      "outputs": []
    },
    {
      "cell_type": "code",
      "metadata": {
        "colab": {
          "base_uri": "https://localhost:8080/"
        },
        "id": "Qqe7TVtmrcqr",
        "outputId": "52b1b4a1-4c28-45dc-f423-823e7cfb7cdb"
      },
      "source": [
        "svc_accuracy = accuracy_score(y_test, svc_pred)\n",
        "svc_f1 = f1_score(y_test, svc_pred, average='micro')\n",
        "\n",
        "print(f\"Accuracy: {svc_accuracy*100 :.4f}\")\n",
        "print(f\"F1: {svc_f1*100 :.4f}\")"
      ],
      "execution_count": null,
      "outputs": [
        {
          "output_type": "stream",
          "text": [
            "Accuracy: 89.7959\n",
            "F1: 89.7959\n"
          ],
          "name": "stdout"
        }
      ]
    },
    {
      "cell_type": "markdown",
      "metadata": {
        "id": "E3SAIC-qcFhd"
      },
      "source": [
        "## Random Forest Classifier"
      ]
    },
    {
      "cell_type": "code",
      "metadata": {
        "id": "CJ8Cpo40senq"
      },
      "source": [
        "rf = RandomForestClassifier(random_state=2021)"
      ],
      "execution_count": null,
      "outputs": []
    },
    {
      "cell_type": "code",
      "metadata": {
        "id": "1e_HWoILswQX"
      },
      "source": [
        "rf_param_grid = {\"n_estimators\": [100, 300, 500, 700],\n",
        "                 \"max_depth\": [6, 8, 10, 12],\n",
        "                 \"min_samples_leaf\": [3, 5, 7, 10], \n",
        "                 \"min_samples_split\": [3, 5, 7, 10]}"
      ],
      "execution_count": null,
      "outputs": []
    },
    {
      "cell_type": "code",
      "metadata": {
        "colab": {
          "base_uri": "https://localhost:8080/"
        },
        "id": "VdbAiJuqtpEd",
        "outputId": "b21887ca-ac00-4fbe-f775-c2a4d96302b9"
      },
      "source": [
        "grid_search_rf = GridSearchCV(rf,\n",
        "                              param_grid=rf_param_grid,\n",
        "                              scoring='accuracy',\n",
        "                              n_jobs=-1,\n",
        "                              verbose=1)\n",
        "grid_search_rf.fit(X_train, y_train)"
      ],
      "execution_count": null,
      "outputs": [
        {
          "output_type": "stream",
          "text": [
            "Fitting 5 folds for each of 256 candidates, totalling 1280 fits\n"
          ],
          "name": "stdout"
        },
        {
          "output_type": "stream",
          "text": [
            "[Parallel(n_jobs=-1)]: Using backend LokyBackend with 2 concurrent workers.\n",
            "[Parallel(n_jobs=-1)]: Done  46 tasks      | elapsed:   46.6s\n",
            "[Parallel(n_jobs=-1)]: Done 196 tasks      | elapsed:  3.3min\n",
            "[Parallel(n_jobs=-1)]: Done 446 tasks      | elapsed:  7.4min\n",
            "[Parallel(n_jobs=-1)]: Done 796 tasks      | elapsed: 13.2min\n",
            "[Parallel(n_jobs=-1)]: Done 1246 tasks      | elapsed: 20.5min\n",
            "[Parallel(n_jobs=-1)]: Done 1280 out of 1280 | elapsed: 21.1min finished\n"
          ],
          "name": "stderr"
        },
        {
          "output_type": "execute_result",
          "data": {
            "text/plain": [
              "GridSearchCV(cv=None, error_score=nan,\n",
              "             estimator=RandomForestClassifier(bootstrap=True, ccp_alpha=0.0,\n",
              "                                              class_weight=None,\n",
              "                                              criterion='gini', max_depth=None,\n",
              "                                              max_features='auto',\n",
              "                                              max_leaf_nodes=None,\n",
              "                                              max_samples=None,\n",
              "                                              min_impurity_decrease=0.0,\n",
              "                                              min_impurity_split=None,\n",
              "                                              min_samples_leaf=1,\n",
              "                                              min_samples_split=2,\n",
              "                                              min_weight_fraction_leaf=0.0,\n",
              "                                              n_estimators=100, n_jobs=None,\n",
              "                                              oob_score=False,\n",
              "                                              random_state=2021, verbose=0,\n",
              "                                              warm_start=False),\n",
              "             iid='deprecated', n_jobs=-1,\n",
              "             param_grid={'max_depth': [6, 8, 10, 12],\n",
              "                         'min_samples_leaf': [3, 5, 7, 10],\n",
              "                         'min_samples_split': [3, 5, 7, 10],\n",
              "                         'n_estimators': [100, 300, 500, 700]},\n",
              "             pre_dispatch='2*n_jobs', refit=True, return_train_score=False,\n",
              "             scoring='accuracy', verbose=1)"
            ]
          },
          "metadata": {
            "tags": []
          },
          "execution_count": 17
        }
      ]
    },
    {
      "cell_type": "code",
      "metadata": {
        "colab": {
          "base_uri": "https://localhost:8080/"
        },
        "id": "IT3hUVrFuBCI",
        "outputId": "91b38664-96b8-4222-e073-c43ebb84b6ed"
      },
      "source": [
        "print(f\"test set score: {np.round(grid_search_rf.score(X_test, y_test), 4)}\")\n",
        "\n",
        "print(f\"best parameters: {grid_search_rf.best_params_}\")\n",
        "print(f\"bset score: {np.round(grid_search_rf.best_score_, 4)}\")"
      ],
      "execution_count": null,
      "outputs": [
        {
          "output_type": "stream",
          "text": [
            "test set score: 0.8571\n",
            "best parameters: {'max_depth': 6, 'min_samples_leaf': 3, 'min_samples_split': 10, 'n_estimators': 500}\n",
            "bset score: 0.8977\n"
          ],
          "name": "stdout"
        }
      ]
    },
    {
      "cell_type": "code",
      "metadata": {
        "colab": {
          "base_uri": "https://localhost:8080/"
        },
        "id": "xXiYHp-K3P2q",
        "outputId": "eb909fb0-b749-4ba0-d33d-07b7d86515b8"
      },
      "source": [
        "rf = RandomForestClassifier(n_estimators=500,\n",
        "                            min_samples_leaf=3,\n",
        "                            min_samples_split=10,\n",
        "                            max_depth=6,\n",
        "                            max_leaf_nodes=16)\n",
        "\n",
        "rf.fit(X_train, y_train)\n",
        "\n",
        "rf_y_pred = rf.predict(X_test)\n",
        "\n",
        "print(f\"RandomForestClassifier Predict Accuracy: {metrics.accuracy_score(y_test, rf_y_pred)}\")"
      ],
      "execution_count": null,
      "outputs": [
        {
          "output_type": "stream",
          "text": [
            "RandomForestClassifier Predict Accuracy: 0.8367346938775511\n"
          ],
          "name": "stdout"
        }
      ]
    },
    {
      "cell_type": "code",
      "metadata": {
        "colab": {
          "base_uri": "https://localhost:8080/"
        },
        "id": "G89XpWXA0RVm",
        "outputId": "826d372c-a045-4b19-e873-aa1ebdd8da6d"
      },
      "source": [
        "rf_pred = rf.predict(X_test)\n",
        "\n",
        "rf_accuracy = accuracy_score(y_test, svc_pred)\n",
        "rf_f1 = f1_score(y_test, rf_pred, average='micro')\n",
        "\n",
        "print(f\"Accuracy: {rf_accuracy*100 :.4f}\")\n",
        "print(f\"F1: {rf_f1*100 :.4f}\")"
      ],
      "execution_count": null,
      "outputs": [
        {
          "output_type": "stream",
          "text": [
            "Accuracy: 89.7959\n",
            "F1: 83.6735\n"
          ],
          "name": "stdout"
        }
      ]
    },
    {
      "cell_type": "code",
      "metadata": {
        "id": "hQF0qsxI56fb"
      },
      "source": [
        ""
      ],
      "execution_count": null,
      "outputs": []
    },
    {
      "cell_type": "code",
      "metadata": {
        "id": "Chp_QDUa6O1I"
      },
      "source": [
        "feature_importances = rf.feature_importances_\n",
        "\n",
        "ft_importances = pd.Series(feature_importances, index=df[df.columns.difference(['patient_barcode', 'therapy_response'])].columns)\n",
        "ft_importances = ft_importances.sort_values(ascending=False)\n",
        "\n",
        "feature_df = pd.DataFrame(ft_importances[:20], columns=[\"importance\"])"
      ],
      "execution_count": null,
      "outputs": []
    },
    {
      "cell_type": "code",
      "metadata": {
        "colab": {
          "base_uri": "https://localhost:8080/",
          "height": 449
        },
        "id": "eQPbrSt4ah0d",
        "outputId": "79b29ffb-0975-4385-ac89-9ef6a406df86"
      },
      "source": [
        "plt.figure(figsize=(10, 7))\n",
        "plt.barh(feature_df.index.tolist(), feature_df.iloc[:,0].sort_values(ascending=True))\n",
        "plt.title(\"Feature Importances\", fontsize=20)\n",
        "plt.show()"
      ],
      "execution_count": null,
      "outputs": [
        {
          "output_type": "display_data",
          "data": {
            "image/png": "[encoded data removed]",
            "text/plain": [
              "<Figure size 720x504 with 1 Axes>"
            ]
          },
          "metadata": {
            "tags": [],
            "needs_background": "light"
          }
        }
      ]
    },
    {
      "cell_type": "markdown",
      "metadata": {
        "id": "jACX7RhH6ui4"
      },
      "source": [
        "## Multi Layer Perceptron"
      ]
    },
    {
      "cell_type": "code",
      "metadata": {
        "colab": {
          "base_uri": "https://localhost:8080/"
        },
        "id": "-Yya3c4VUF_m",
        "outputId": "b684d005-d677-478e-d9c7-55ece6772fe8"
      },
      "source": [
        "inputs = layers.Input(shape=X_train.shape[1:])\n",
        "dense = layers.Dense(1024, activation='relu')\n",
        "\n",
        "x = dense(inputs)\n",
        "x = layers.Dense(512, activation='relu')(x)\n",
        "x = layers.Dense(512, activation='relu')(x)\n",
        "x = layers.Dense(512, activation='relu')(x)\n",
        "outputs = layers.Dense(3, activation='softmax')(x)\n",
        "\n",
        "mlp_model = keras.Model(inputs=inputs,\n",
        "                        outputs=outputs,\n",
        "                        name='drug_res_prediction')\n",
        "mlp_model.summary()"
      ],
      "execution_count": 51,
      "outputs": [
        {
          "output_type": "stream",
          "text": [
            "Model: \"drug_res_prediction\"\n",
            "_________________________________________________________________\n",
            "Layer (type)                 Output Shape              Param #   \n",
            "=================================================================\n",
            "Total params: 22,066,179\n",
            "Trainable params: 22,066,179\n",
            "Non-trainable params: 0\n",
            "_________________________________________________________________\n"
          ],
          "name": "stdout"
        }
      ]
    },
    {
      "cell_type": "code",
      "metadata": {
        "id": "RbHhqztdUY3T"
      },
      "source": [
        "callback = tf.keras.callbacks.EarlyStopping(monitor='val_loss', patience=20)"
      ],
      "execution_count": 52,
      "outputs": []
    },
    {
      "cell_type": "code",
      "metadata": {
        "id": "-xzlLedeYKqE"
      },
      "source": [
        ""
      ],
      "execution_count": null,
      "outputs": []
    },
    {
      "cell_type": "code",
      "metadata": {
        "id": "wJM8XvVpoeW3"
      },
      "source": [
        "mlp_model.compile(loss=keras.losses.sparse_categorical_crossentropy,\n",
        "              optimizer=keras.optimizers.Adam(),\n",
        "              metrics=['accuracy'])\n"
      ],
      "execution_count": 62,
      "outputs": []
    },
    {
      "cell_type": "code",
      "metadata": {
        "colab": {
          "base_uri": "https://localhost:8080/"
        },
        "id": "E5-BodDKwPJp",
        "outputId": "8bdfcc35-600b-4a48-ff33-d00b68d37b16"
      },
      "source": [
        "history = mlp_model.fit(X_train, y_train,\n",
        "                        epochs=500,\n",
        "                        validation_split=0.2,\n",
        "                        callbacks=[callback])"
      ],
      "execution_count": 63,
      "outputs": [
        {
          "output_type": "stream",
          "text": [
            "Epoch 1/500\n",
            "5/5 [==============================] - 1s 60ms/step - loss: 208.6951 - accuracy: 0.7286 - val_loss: 246.5924 - val_accuracy: 0.5250\n",
            "Epoch 2/500\n",
            "5/5 [==============================] - 0s 13ms/step - loss: 110.9176 - accuracy: 0.6879 - val_loss: 107.3867 - val_accuracy: 0.7500\n",
            "Epoch 3/500\n",
            "5/5 [==============================] - 0s 13ms/step - loss: 33.1774 - accuracy: 0.8239 - val_loss: 59.3575 - val_accuracy: 0.8750\n",
            "Epoch 4/500\n",
            "5/5 [==============================] - 0s 14ms/step - loss: 20.1980 - accuracy: 0.8853 - val_loss: 92.5013 - val_accuracy: 0.8000\n",
            "Epoch 5/500\n",
            "5/5 [==============================] - 0s 14ms/step - loss: 56.5085 - accuracy: 0.8654 - val_loss: 102.6853 - val_accuracy: 0.6250\n",
            "Epoch 6/500\n",
            "5/5 [==============================] - 0s 13ms/step - loss: 38.5554 - accuracy: 0.7965 - val_loss: 48.6275 - val_accuracy: 0.8250\n",
            "Epoch 7/500\n",
            "5/5 [==============================] - 0s 13ms/step - loss: 18.2835 - accuracy: 0.9206 - val_loss: 97.5433 - val_accuracy: 0.7250\n",
            "Epoch 8/500\n",
            "5/5 [==============================] - 0s 14ms/step - loss: 29.2641 - accuracy: 0.8617 - val_loss: 43.7399 - val_accuracy: 0.8750\n",
            "Epoch 9/500\n",
            "5/5 [==============================] - 0s 14ms/step - loss: 10.8065 - accuracy: 0.9095 - val_loss: 64.8072 - val_accuracy: 0.8250\n",
            "Epoch 10/500\n",
            "5/5 [==============================] - 0s 13ms/step - loss: 18.7149 - accuracy: 0.8942 - val_loss: 40.5010 - val_accuracy: 0.8750\n",
            "Epoch 11/500\n",
            "5/5 [==============================] - 0s 13ms/step - loss: 19.3269 - accuracy: 0.8842 - val_loss: 57.1012 - val_accuracy: 0.8250\n",
            "Epoch 12/500\n",
            "5/5 [==============================] - 0s 13ms/step - loss: 11.5169 - accuracy: 0.9478 - val_loss: 48.1610 - val_accuracy: 0.7750\n",
            "Epoch 13/500\n",
            "5/5 [==============================] - 0s 14ms/step - loss: 17.6202 - accuracy: 0.8729 - val_loss: 22.8166 - val_accuracy: 0.8750\n",
            "Epoch 14/500\n",
            "5/5 [==============================] - 0s 14ms/step - loss: 11.2844 - accuracy: 0.9106 - val_loss: 34.6414 - val_accuracy: 0.9250\n",
            "Epoch 15/500\n",
            "5/5 [==============================] - 0s 14ms/step - loss: 9.2858 - accuracy: 0.9447 - val_loss: 63.0297 - val_accuracy: 0.7250\n",
            "Epoch 16/500\n",
            "5/5 [==============================] - 0s 14ms/step - loss: 20.4727 - accuracy: 0.8449 - val_loss: 26.2568 - val_accuracy: 0.9500\n",
            "Epoch 17/500\n",
            "5/5 [==============================] - 0s 14ms/step - loss: 10.1804 - accuracy: 0.9025 - val_loss: 40.5689 - val_accuracy: 0.7750\n",
            "Epoch 18/500\n",
            "5/5 [==============================] - 0s 14ms/step - loss: 15.9529 - accuracy: 0.9323 - val_loss: 51.6694 - val_accuracy: 0.7500\n",
            "Epoch 19/500\n",
            "5/5 [==============================] - 0s 16ms/step - loss: 11.7735 - accuracy: 0.8713 - val_loss: 38.9379 - val_accuracy: 0.8250\n",
            "Epoch 20/500\n",
            "5/5 [==============================] - 0s 14ms/step - loss: 9.4125 - accuracy: 0.9279 - val_loss: 36.0719 - val_accuracy: 0.8250\n",
            "Epoch 21/500\n",
            "5/5 [==============================] - 0s 13ms/step - loss: 6.4086 - accuracy: 0.9150 - val_loss: 27.8243 - val_accuracy: 0.8750\n",
            "Epoch 22/500\n",
            "5/5 [==============================] - 0s 13ms/step - loss: 6.4500 - accuracy: 0.9369 - val_loss: 19.7858 - val_accuracy: 0.9500\n",
            "Epoch 23/500\n",
            "5/5 [==============================] - 0s 13ms/step - loss: 3.3900 - accuracy: 0.9102 - val_loss: 26.4219 - val_accuracy: 0.8000\n",
            "Epoch 24/500\n",
            "5/5 [==============================] - 0s 14ms/step - loss: 2.2429 - accuracy: 0.9335 - val_loss: 34.8009 - val_accuracy: 0.7750\n",
            "Epoch 25/500\n",
            "5/5 [==============================] - 0s 14ms/step - loss: 8.6599 - accuracy: 0.8860 - val_loss: 31.5391 - val_accuracy: 0.8500\n",
            "Epoch 26/500\n",
            "5/5 [==============================] - 0s 13ms/step - loss: 5.3477 - accuracy: 0.8959 - val_loss: 32.8254 - val_accuracy: 0.8750\n",
            "Epoch 27/500\n",
            "5/5 [==============================] - 0s 13ms/step - loss: 5.5985 - accuracy: 0.9089 - val_loss: 28.3386 - val_accuracy: 0.8250\n",
            "Epoch 28/500\n",
            "5/5 [==============================] - 0s 13ms/step - loss: 3.8021 - accuracy: 0.9417 - val_loss: 23.6036 - val_accuracy: 0.9250\n",
            "Epoch 29/500\n",
            "5/5 [==============================] - 0s 14ms/step - loss: 4.0447 - accuracy: 0.9327 - val_loss: 27.6358 - val_accuracy: 0.8250\n",
            "Epoch 30/500\n",
            "5/5 [==============================] - 0s 13ms/step - loss: 3.6711 - accuracy: 0.9266 - val_loss: 18.9652 - val_accuracy: 0.9000\n",
            "Epoch 31/500\n",
            "5/5 [==============================] - 0s 14ms/step - loss: 8.4890 - accuracy: 0.8622 - val_loss: 26.1496 - val_accuracy: 0.8000\n",
            "Epoch 32/500\n",
            "5/5 [==============================] - 0s 13ms/step - loss: 4.3326 - accuracy: 0.9374 - val_loss: 15.2934 - val_accuracy: 0.9250\n",
            "Epoch 33/500\n",
            "5/5 [==============================] - 0s 14ms/step - loss: 6.3528 - accuracy: 0.9002 - val_loss: 20.3760 - val_accuracy: 0.8500\n",
            "Epoch 34/500\n",
            "5/5 [==============================] - 0s 14ms/step - loss: 2.8206 - accuracy: 0.9300 - val_loss: 18.7495 - val_accuracy: 0.9500\n",
            "Epoch 35/500\n",
            "5/5 [==============================] - 0s 14ms/step - loss: 4.0426 - accuracy: 0.9487 - val_loss: 21.6955 - val_accuracy: 0.8750\n",
            "Epoch 36/500\n",
            "5/5 [==============================] - 0s 13ms/step - loss: 3.1914 - accuracy: 0.9336 - val_loss: 24.8826 - val_accuracy: 0.8750\n",
            "Epoch 37/500\n",
            "5/5 [==============================] - 0s 14ms/step - loss: 2.1433 - accuracy: 0.9172 - val_loss: 19.7255 - val_accuracy: 0.8000\n",
            "Epoch 38/500\n",
            "5/5 [==============================] - 0s 14ms/step - loss: 3.1611 - accuracy: 0.9037 - val_loss: 10.7640 - val_accuracy: 0.8250\n",
            "Epoch 39/500\n",
            "5/5 [==============================] - 0s 16ms/step - loss: 4.0343 - accuracy: 0.8830 - val_loss: 15.0255 - val_accuracy: 0.8250\n",
            "Epoch 40/500\n",
            "5/5 [==============================] - 0s 14ms/step - loss: 1.7550 - accuracy: 0.9257 - val_loss: 16.0327 - val_accuracy: 0.8750\n",
            "Epoch 41/500\n",
            "5/5 [==============================] - 0s 14ms/step - loss: 2.5954 - accuracy: 0.9322 - val_loss: 17.3590 - val_accuracy: 0.8750\n",
            "Epoch 42/500\n",
            "5/5 [==============================] - 0s 14ms/step - loss: 2.3692 - accuracy: 0.9526 - val_loss: 18.8179 - val_accuracy: 0.8000\n",
            "Epoch 43/500\n",
            "5/5 [==============================] - 0s 12ms/step - loss: 1.4358 - accuracy: 0.9302 - val_loss: 14.6859 - val_accuracy: 0.8750\n",
            "Epoch 44/500\n",
            "5/5 [==============================] - 0s 14ms/step - loss: 2.8172 - accuracy: 0.9443 - val_loss: 10.5059 - val_accuracy: 0.9000\n",
            "Epoch 45/500\n",
            "5/5 [==============================] - 0s 13ms/step - loss: 4.3663 - accuracy: 0.8630 - val_loss: 11.2806 - val_accuracy: 0.9000\n",
            "Epoch 46/500\n",
            "5/5 [==============================] - 0s 14ms/step - loss: 2.3222 - accuracy: 0.9391 - val_loss: 12.1167 - val_accuracy: 0.8250\n",
            "Epoch 47/500\n",
            "5/5 [==============================] - 0s 14ms/step - loss: 0.8334 - accuracy: 0.9383 - val_loss: 10.1937 - val_accuracy: 0.8500\n",
            "Epoch 48/500\n",
            "5/5 [==============================] - 0s 14ms/step - loss: 0.9419 - accuracy: 0.9521 - val_loss: 11.8262 - val_accuracy: 0.8250\n",
            "Epoch 49/500\n",
            "5/5 [==============================] - 0s 14ms/step - loss: 2.5105 - accuracy: 0.9292 - val_loss: 8.5117 - val_accuracy: 0.8750\n",
            "Epoch 50/500\n",
            "5/5 [==============================] - 0s 13ms/step - loss: 2.4429 - accuracy: 0.9509 - val_loss: 8.6816 - val_accuracy: 0.8750\n",
            "Epoch 51/500\n",
            "5/5 [==============================] - 0s 14ms/step - loss: 1.3011 - accuracy: 0.9492 - val_loss: 7.7553 - val_accuracy: 0.7250\n",
            "Epoch 52/500\n",
            "5/5 [==============================] - 0s 14ms/step - loss: 4.1594 - accuracy: 0.8419 - val_loss: 12.3808 - val_accuracy: 0.7500\n",
            "Epoch 53/500\n",
            "5/5 [==============================] - 0s 14ms/step - loss: 2.5840 - accuracy: 0.9084 - val_loss: 22.1052 - val_accuracy: 0.7750\n",
            "Epoch 54/500\n",
            "5/5 [==============================] - 0s 14ms/step - loss: 13.5510 - accuracy: 0.8211 - val_loss: 18.7044 - val_accuracy: 0.9250\n",
            "Epoch 55/500\n",
            "5/5 [==============================] - 0s 15ms/step - loss: 3.3263 - accuracy: 0.9214 - val_loss: 15.2839 - val_accuracy: 0.8250\n",
            "Epoch 56/500\n",
            "5/5 [==============================] - 0s 15ms/step - loss: 9.8034 - accuracy: 0.8777 - val_loss: 21.5841 - val_accuracy: 0.7750\n",
            "Epoch 57/500\n",
            "5/5 [==============================] - 0s 14ms/step - loss: 7.7318 - accuracy: 0.8958 - val_loss: 9.6919 - val_accuracy: 0.9250\n",
            "Epoch 58/500\n",
            "5/5 [==============================] - 0s 13ms/step - loss: 6.4531 - accuracy: 0.8899 - val_loss: 9.4065 - val_accuracy: 0.9500\n",
            "Epoch 59/500\n",
            "5/5 [==============================] - 0s 14ms/step - loss: 4.9998 - accuracy: 0.9223 - val_loss: 48.3481 - val_accuracy: 0.6500\n",
            "Epoch 60/500\n",
            "5/5 [==============================] - 0s 14ms/step - loss: 14.9097 - accuracy: 0.8549 - val_loss: 31.1850 - val_accuracy: 0.7750\n",
            "Epoch 61/500\n",
            "5/5 [==============================] - 0s 13ms/step - loss: 9.1057 - accuracy: 0.9123 - val_loss: 29.8971 - val_accuracy: 0.8000\n",
            "Epoch 62/500\n",
            "5/5 [==============================] - 0s 13ms/step - loss: 8.7995 - accuracy: 0.8898 - val_loss: 16.0811 - val_accuracy: 0.9000\n",
            "Epoch 63/500\n",
            "5/5 [==============================] - 0s 14ms/step - loss: 4.4166 - accuracy: 0.9358 - val_loss: 19.7949 - val_accuracy: 0.8500\n",
            "Epoch 64/500\n",
            "5/5 [==============================] - 0s 15ms/step - loss: 4.6005 - accuracy: 0.9257 - val_loss: 12.7837 - val_accuracy: 0.8250\n",
            "Epoch 65/500\n",
            "5/5 [==============================] - 0s 14ms/step - loss: 1.7024 - accuracy: 0.9349 - val_loss: 10.6804 - val_accuracy: 0.8750\n",
            "Epoch 66/500\n",
            "5/5 [==============================] - 0s 13ms/step - loss: 3.1358 - accuracy: 0.9220 - val_loss: 15.9298 - val_accuracy: 0.8250\n",
            "Epoch 67/500\n",
            "5/5 [==============================] - 0s 14ms/step - loss: 2.3042 - accuracy: 0.9166 - val_loss: 20.0256 - val_accuracy: 0.8250\n",
            "Epoch 68/500\n",
            "5/5 [==============================] - 0s 13ms/step - loss: 2.2140 - accuracy: 0.9250 - val_loss: 16.7683 - val_accuracy: 0.8250\n",
            "Epoch 69/500\n",
            "5/5 [==============================] - 0s 14ms/step - loss: 6.1605 - accuracy: 0.8942 - val_loss: 13.2964 - val_accuracy: 0.8250\n",
            "Epoch 70/500\n",
            "5/5 [==============================] - 0s 14ms/step - loss: 2.5511 - accuracy: 0.9206 - val_loss: 13.0312 - val_accuracy: 0.8750\n",
            "Epoch 71/500\n",
            "5/5 [==============================] - 0s 14ms/step - loss: 3.5917 - accuracy: 0.9361 - val_loss: 17.7048 - val_accuracy: 0.8500\n"
          ],
          "name": "stdout"
        }
      ]
    },
    {
      "cell_type": "code",
      "metadata": {
        "colab": {
          "base_uri": "https://localhost:8080/"
        },
        "id": "TSo1vLinU-m6",
        "outputId": "464d36f3-fd16-41e4-ecf7-9292596d7233"
      },
      "source": [
        "res = mlp_model.evaluate(X_test, y_test, verbose=0)\n",
        "print(res)\n",
        "print(f\"MLP Accuracy: {res[1]*100}\")"
      ],
      "execution_count": 64,
      "outputs": [
        {
          "output_type": "stream",
          "text": [
            "[12.435583114624023, 0.7755101919174194]\n",
            "MLP Accuracy: 77.55101919174194\n"
          ],
          "name": "stdout"
        }
      ]
    },
    {
      "cell_type": "code",
      "metadata": {
        "colab": {
          "base_uri": "https://localhost:8080/",
          "height": 355
        },
        "id": "a5xqt5PaxHHw",
        "outputId": "4aca46a1-cc05-4d05-8e62-4d958d837488"
      },
      "source": [
        "plt.figure(figsize=(15, 5))\n",
        "plt.plot(history.history['accuracy'], 'r')\n",
        "plt.plot(history.history['val_accuracy'], 'c--')\n",
        "plt.title(\"Model Accuracy\", fontsize=20)\n",
        "plt.ylabel(\"Accuracy\")\n",
        "plt.xlabel(\"Epochs\")\n",
        "plt.legend(['Train', 'Validation'])\n",
        "plt.grid()\n",
        "plt.show()"
      ],
      "execution_count": 56,
      "outputs": [
        {
          "output_type": "display_data",
          "data": {
            "image/png": "[encoded data removed]",
            "text/plain": [
              "<Figure size 1080x360 with 1 Axes>"
            ]
          },
          "metadata": {
            "tags": [],
            "needs_background": "light"
          }
        }
      ]
    },
    {
      "cell_type": "code",
      "metadata": {
        "colab": {
          "base_uri": "https://localhost:8080/",
          "height": 355
        },
        "id": "Wm62xrpKw8EE",
        "outputId": "bd1d8ec2-fcef-4629-e52e-5e8a6e9fd150"
      },
      "source": [
        "plt.figure(figsize=(15, 5))\n",
        "plt.plot(history.history['loss'], 'r')\n",
        "plt.legend(['loss'])\n",
        "plt.title(\"Model Loss\", fontsize=20)\n",
        "plt.ylabel(\"Loss\")\n",
        "plt.xlabel(\"Epochs\")\n",
        "plt.grid()\n",
        "plt.show()"
      ],
      "execution_count": 57,
      "outputs": [
        {
          "output_type": "display_data",
          "data": {
            "image/png": "[encoded data removed]",
            "text/plain": [
              "<Figure size 1080x360 with 1 Axes>"
            ]
          },
          "metadata": {
            "tags": [],
            "needs_background": "light"
          }
        }
      ]
    },
    {
      "cell_type": "code",
      "metadata": {
        "id": "BJb7ycl-zX7A"
      },
      "source": [
        ""
      ],
      "execution_count": null,
      "outputs": []
    }
  ]
}